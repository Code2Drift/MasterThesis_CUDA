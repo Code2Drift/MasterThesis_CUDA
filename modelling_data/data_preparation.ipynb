{
 "cells": [
  {
   "cell_type": "code",
   "id": "initial_id",
   "metadata": {
    "collapsed": true,
    "ExecuteTime": {
     "end_time": "2024-08-03T11:50:41.211152Z",
     "start_time": "2024-08-03T11:50:41.197474Z"
    }
   },
   "source": [
    "import pandas as pd\n",
    "from sklearn.preprocessing import StandardScaler\n",
    "from sklearn.preprocessing import OneHotEncoder\n",
    "import seaborn as sns\n",
    "import matplotlib.pyplot as plt\n",
    "from sklearn.model_selection import train_test_split\n",
    "import pickle"
   ],
   "outputs": [],
   "execution_count": 94
  },
  {
   "metadata": {
    "ExecuteTime": {
     "end_time": "2024-08-03T11:55:32.398697Z",
     "start_time": "2024-08-03T11:55:32.381170Z"
    }
   },
   "cell_type": "code",
   "source": [
    "def load_masterfile(path:str)->pd.DataFrame:\n",
    "  df = pd.read_csv(path)\n",
    "  df.drop(columns=['Unnamed: 0'], inplace=True)\n",
    "  print(\"Original dataframe shape:\", df.shape)\n",
    "  return df\n",
    "\n",
    "def remove_duplicate(dataframe:pd.DataFrame)->pd.DataFrame:\n",
    "    df_nodupes = dataframe.drop_duplicates(keep='last')\n",
    "    print(\"\\nDeleted duplicate:\", dataframe.shape[0] - df_nodupes.shape[0])\n",
    "    print(f\"Shape after with no duplicate: {df_nodupes.shape[0]}\")\n",
    "    \n",
    "    return df_nodupes\n",
    "\n",
    "def remove_file_indicator(dataframe:pd.DataFrame)->pd.DataFrame:\n",
    "    dataframe.drop(columns=[\"path_label\", \"scenario\"], inplace=True)\n",
    "    print(f\"{dataframe.columns}\")\n",
    "    return dataframe\n",
    "\n",
    "def clean_validentry(dataframe:pd.DataFrame)->pd.DataFrame:\n",
    "    ## check original dataframe\n",
    "    print(f\"shape before cleaning: {dataframe.shape[0]}\")\n",
    "    valid_entry = dataframe.query('Entry == 1')\n",
    "    \n",
    "    ## check dataframe after cleaning\n",
    "    print(f\"shape after cleaning: {valid_entry.shape[0]}\")\n",
    "    valid_entry.drop(columns=['Entry'], inplace=True)\n",
    "    print(f\"{valid_entry.columns}\")\n",
    "    \n",
    "    return valid_entry\n",
    "\n",
    "def fit_scaler(data):\n",
    "\n",
    "  scaler = StandardScaler()\n",
    "\n",
    "  std_scaler = scaler.fit(data)\n",
    "\n",
    "  return std_scaler\n",
    "\n",
    "\n",
    "def transform_scaler(data, scaler):\n",
    "\n",
    "    scaled_data = scaler.transform(data)\n",
    "\n",
    "    scaled_df = pd.DataFrame(scaled_data, columns=data.columns, index=data.index)\n",
    "\n",
    "    return scaled_df\n",
    "\n",
    "def serialize_data(data, path:str):\n",
    "    with open(path, \"wb\") as f:\n",
    "        pickle.dump(data, f)\n",
    "        "
   ],
   "id": "14a0e505abb4bed8",
   "outputs": [],
   "execution_count": 96
  },
  {
   "metadata": {
    "ExecuteTime": {
     "end_time": "2024-08-03T10:44:22.456412Z",
     "start_time": "2024-08-03T10:44:22.450406Z"
    }
   },
   "cell_type": "code",
   "source": [
    "masterfile_path = r\"E:\\01_Programming\\Py\\MasterThesis_CUDA\\dataset\\MasterFile\\MasterFile_1956.csv\""
   ],
   "id": "6b774bc4bdab54c7",
   "outputs": [],
   "execution_count": 26
  },
  {
   "metadata": {
    "ExecuteTime": {
     "end_time": "2024-08-03T10:44:23.262059Z",
     "start_time": "2024-08-03T10:44:23.243043Z"
    }
   },
   "cell_type": "code",
   "source": [
    "intact_file = load_masterfile(masterfile_path)"
   ],
   "id": "8873a1f7e38491ef",
   "outputs": [
    {
     "name": "stdout",
     "output_type": "stream",
     "text": [
      "Original dataframe shape: (3731, 13)\n"
     ]
    }
   ],
   "execution_count": 27
  },
  {
   "metadata": {
    "ExecuteTime": {
     "end_time": "2024-08-03T10:47:03.837159Z",
     "start_time": "2024-08-03T10:47:03.819138Z"
    }
   },
   "cell_type": "code",
   "source": [
    "df_unique = remove_duplicate(intact_file)"
   ],
   "id": "fbc67e49bb3a16e",
   "outputs": [
    {
     "name": "stdout",
     "output_type": "stream",
     "text": [
      "\n",
      "Deleted duplicate: 360\n",
      "Shape after with no duplicate: 3371\n"
     ]
    }
   ],
   "execution_count": 32
  },
  {
   "metadata": {
    "ExecuteTime": {
     "end_time": "2024-08-03T10:48:07.572495Z",
     "start_time": "2024-08-03T10:48:07.553478Z"
    }
   },
   "cell_type": "code",
   "source": [
    "df_unique.columns"
   ],
   "id": "ea4440a56a5e18ab",
   "outputs": [
    {
     "data": {
      "text/plain": [
       "Index(['bins_0_75', 'bins_1_75', 'bins_2_75', 'bins_3_75', 'bins_4_75',\n",
       "       'bins_5_75', 'bins_6_75', 'bins_7_75', 'Entry', 'Exit', 'path_label',\n",
       "       'outcome', 'scenario'],\n",
       "      dtype='object')"
      ]
     },
     "execution_count": 33,
     "metadata": {},
     "output_type": "execute_result"
    }
   ],
   "execution_count": 33
  },
  {
   "metadata": {
    "ExecuteTime": {
     "end_time": "2024-08-03T10:48:16.272604Z",
     "start_time": "2024-08-03T10:48:16.258592Z"
    }
   },
   "cell_type": "code",
   "source": [
    "df_unique.head(10)"
   ],
   "id": "c5491e3963e1ea6b",
   "outputs": [
    {
     "data": {
      "text/plain": [
       "   bins_0_75  bins_1_75  bins_2_75  bins_3_75  bins_4_75  bins_5_75  \\\n",
       "0      325.0       30.0        2.0        3.0        2.0        0.0   \n",
       "1        0.0        1.0       97.0     2974.0       20.0        1.0   \n",
       "2      386.0       30.0        2.0        2.0        2.0        0.0   \n",
       "3        0.0        2.0       91.0     2957.0       16.0        1.0   \n",
       "4      219.0      182.0        2.0        3.0        2.0        0.0   \n",
       "5        0.0        4.0       60.0     3049.0       15.0        4.0   \n",
       "6      151.0      204.0        2.0        3.0        1.0        0.0   \n",
       "7        6.0       75.0       53.0     3359.0       16.0        0.0   \n",
       "8        3.0      807.0       50.0     3727.0       12.0        0.0   \n",
       "9       81.0      263.0      506.0       18.0        2.0        0.0   \n",
       "\n",
       "   bins_6_75  bins_7_75  Entry  Exit path_label  outcome scenario  \n",
       "0        1.0       20.0      1     1      40-30        1  org_sc1  \n",
       "1        1.0        9.0      1     0      40-30        1  org_sc1  \n",
       "2        1.0       20.0      1     1      42-30        1  org_sc1  \n",
       "3        2.0       16.0      1     0      42-30        1  org_sc1  \n",
       "4        1.0       21.0      1     1      44-32        1  org_sc1  \n",
       "5        4.0       12.0      1     0      44-32        1  org_sc1  \n",
       "6        0.0       20.0      1     1      46-34        1  org_sc1  \n",
       "7        1.0        7.0      1     0      46-34        1  org_sc1  \n",
       "8        0.0        2.0      1     0      48-36        1  org_sc1  \n",
       "9        1.0       21.0      1     0      48-36        1  org_sc1  "
      ],
      "text/html": [
       "<div>\n",
       "<style scoped>\n",
       "    .dataframe tbody tr th:only-of-type {\n",
       "        vertical-align: middle;\n",
       "    }\n",
       "\n",
       "    .dataframe tbody tr th {\n",
       "        vertical-align: top;\n",
       "    }\n",
       "\n",
       "    .dataframe thead th {\n",
       "        text-align: right;\n",
       "    }\n",
       "</style>\n",
       "<table border=\"1\" class=\"dataframe\">\n",
       "  <thead>\n",
       "    <tr style=\"text-align: right;\">\n",
       "      <th></th>\n",
       "      <th>bins_0_75</th>\n",
       "      <th>bins_1_75</th>\n",
       "      <th>bins_2_75</th>\n",
       "      <th>bins_3_75</th>\n",
       "      <th>bins_4_75</th>\n",
       "      <th>bins_5_75</th>\n",
       "      <th>bins_6_75</th>\n",
       "      <th>bins_7_75</th>\n",
       "      <th>Entry</th>\n",
       "      <th>Exit</th>\n",
       "      <th>path_label</th>\n",
       "      <th>outcome</th>\n",
       "      <th>scenario</th>\n",
       "    </tr>\n",
       "  </thead>\n",
       "  <tbody>\n",
       "    <tr>\n",
       "      <th>0</th>\n",
       "      <td>325.0</td>\n",
       "      <td>30.0</td>\n",
       "      <td>2.0</td>\n",
       "      <td>3.0</td>\n",
       "      <td>2.0</td>\n",
       "      <td>0.0</td>\n",
       "      <td>1.0</td>\n",
       "      <td>20.0</td>\n",
       "      <td>1</td>\n",
       "      <td>1</td>\n",
       "      <td>40-30</td>\n",
       "      <td>1</td>\n",
       "      <td>org_sc1</td>\n",
       "    </tr>\n",
       "    <tr>\n",
       "      <th>1</th>\n",
       "      <td>0.0</td>\n",
       "      <td>1.0</td>\n",
       "      <td>97.0</td>\n",
       "      <td>2974.0</td>\n",
       "      <td>20.0</td>\n",
       "      <td>1.0</td>\n",
       "      <td>1.0</td>\n",
       "      <td>9.0</td>\n",
       "      <td>1</td>\n",
       "      <td>0</td>\n",
       "      <td>40-30</td>\n",
       "      <td>1</td>\n",
       "      <td>org_sc1</td>\n",
       "    </tr>\n",
       "    <tr>\n",
       "      <th>2</th>\n",
       "      <td>386.0</td>\n",
       "      <td>30.0</td>\n",
       "      <td>2.0</td>\n",
       "      <td>2.0</td>\n",
       "      <td>2.0</td>\n",
       "      <td>0.0</td>\n",
       "      <td>1.0</td>\n",
       "      <td>20.0</td>\n",
       "      <td>1</td>\n",
       "      <td>1</td>\n",
       "      <td>42-30</td>\n",
       "      <td>1</td>\n",
       "      <td>org_sc1</td>\n",
       "    </tr>\n",
       "    <tr>\n",
       "      <th>3</th>\n",
       "      <td>0.0</td>\n",
       "      <td>2.0</td>\n",
       "      <td>91.0</td>\n",
       "      <td>2957.0</td>\n",
       "      <td>16.0</td>\n",
       "      <td>1.0</td>\n",
       "      <td>2.0</td>\n",
       "      <td>16.0</td>\n",
       "      <td>1</td>\n",
       "      <td>0</td>\n",
       "      <td>42-30</td>\n",
       "      <td>1</td>\n",
       "      <td>org_sc1</td>\n",
       "    </tr>\n",
       "    <tr>\n",
       "      <th>4</th>\n",
       "      <td>219.0</td>\n",
       "      <td>182.0</td>\n",
       "      <td>2.0</td>\n",
       "      <td>3.0</td>\n",
       "      <td>2.0</td>\n",
       "      <td>0.0</td>\n",
       "      <td>1.0</td>\n",
       "      <td>21.0</td>\n",
       "      <td>1</td>\n",
       "      <td>1</td>\n",
       "      <td>44-32</td>\n",
       "      <td>1</td>\n",
       "      <td>org_sc1</td>\n",
       "    </tr>\n",
       "    <tr>\n",
       "      <th>5</th>\n",
       "      <td>0.0</td>\n",
       "      <td>4.0</td>\n",
       "      <td>60.0</td>\n",
       "      <td>3049.0</td>\n",
       "      <td>15.0</td>\n",
       "      <td>4.0</td>\n",
       "      <td>4.0</td>\n",
       "      <td>12.0</td>\n",
       "      <td>1</td>\n",
       "      <td>0</td>\n",
       "      <td>44-32</td>\n",
       "      <td>1</td>\n",
       "      <td>org_sc1</td>\n",
       "    </tr>\n",
       "    <tr>\n",
       "      <th>6</th>\n",
       "      <td>151.0</td>\n",
       "      <td>204.0</td>\n",
       "      <td>2.0</td>\n",
       "      <td>3.0</td>\n",
       "      <td>1.0</td>\n",
       "      <td>0.0</td>\n",
       "      <td>0.0</td>\n",
       "      <td>20.0</td>\n",
       "      <td>1</td>\n",
       "      <td>1</td>\n",
       "      <td>46-34</td>\n",
       "      <td>1</td>\n",
       "      <td>org_sc1</td>\n",
       "    </tr>\n",
       "    <tr>\n",
       "      <th>7</th>\n",
       "      <td>6.0</td>\n",
       "      <td>75.0</td>\n",
       "      <td>53.0</td>\n",
       "      <td>3359.0</td>\n",
       "      <td>16.0</td>\n",
       "      <td>0.0</td>\n",
       "      <td>1.0</td>\n",
       "      <td>7.0</td>\n",
       "      <td>1</td>\n",
       "      <td>0</td>\n",
       "      <td>46-34</td>\n",
       "      <td>1</td>\n",
       "      <td>org_sc1</td>\n",
       "    </tr>\n",
       "    <tr>\n",
       "      <th>8</th>\n",
       "      <td>3.0</td>\n",
       "      <td>807.0</td>\n",
       "      <td>50.0</td>\n",
       "      <td>3727.0</td>\n",
       "      <td>12.0</td>\n",
       "      <td>0.0</td>\n",
       "      <td>0.0</td>\n",
       "      <td>2.0</td>\n",
       "      <td>1</td>\n",
       "      <td>0</td>\n",
       "      <td>48-36</td>\n",
       "      <td>1</td>\n",
       "      <td>org_sc1</td>\n",
       "    </tr>\n",
       "    <tr>\n",
       "      <th>9</th>\n",
       "      <td>81.0</td>\n",
       "      <td>263.0</td>\n",
       "      <td>506.0</td>\n",
       "      <td>18.0</td>\n",
       "      <td>2.0</td>\n",
       "      <td>0.0</td>\n",
       "      <td>1.0</td>\n",
       "      <td>21.0</td>\n",
       "      <td>1</td>\n",
       "      <td>0</td>\n",
       "      <td>48-36</td>\n",
       "      <td>1</td>\n",
       "      <td>org_sc1</td>\n",
       "    </tr>\n",
       "  </tbody>\n",
       "</table>\n",
       "</div>"
      ]
     },
     "execution_count": 34,
     "metadata": {},
     "output_type": "execute_result"
    }
   ],
   "execution_count": 34
  },
  {
   "metadata": {},
   "cell_type": "markdown",
   "source": [
    "### Clean misc features\n",
    "\n",
    "this step involve: \n",
    "1. removing the following features: path_label, scenario\n",
    "2. clean invalid data with no Entry (\"Entry\" == 0)\n",
    "3. Return the cleaned dataframe"
   ],
   "id": "faa127018f3a0347"
  },
  {
   "metadata": {
    "ExecuteTime": {
     "end_time": "2024-08-03T10:55:14.584734Z",
     "start_time": "2024-08-03T10:55:14.559711Z"
    }
   },
   "cell_type": "code",
   "source": [
    "df_unique.describe().round(2)"
   ],
   "id": "ccdbb2a380f96a39",
   "outputs": [
    {
     "data": {
      "text/plain": [
       "       bins_0_75  bins_1_75  bins_2_75  bins_3_75  bins_4_75  bins_5_75  \\\n",
       "count    3371.00    3371.00    3371.00    3371.00    3371.00    3371.00   \n",
       "mean      680.39     265.86     154.05    2789.51     902.21       3.37   \n",
       "std      1119.35     672.76     368.04    3650.37    3142.39      13.91   \n",
       "min         0.00       0.00       0.00       0.00       0.00       0.00   \n",
       "25%         0.00       3.00       4.00       4.00       2.00       0.00   \n",
       "50%        71.00      32.00      26.00    1584.00       7.00       1.00   \n",
       "75%      1067.00     183.00     154.00    4051.00      23.50       2.00   \n",
       "max      7510.00    7768.00    4909.00   16697.00   18426.00     248.00   \n",
       "\n",
       "       bins_6_75  bins_7_75    Entry     Exit  outcome  \n",
       "count    3371.00    3371.00  3371.00  3371.00  3371.00  \n",
       "mean        3.23     127.00     0.99     0.61     0.48  \n",
       "std        11.00     444.62     0.09     0.49     0.50  \n",
       "min         0.00       0.00     0.00     0.00     0.00  \n",
       "25%         0.00       1.00     1.00     0.00     0.00  \n",
       "50%         1.00      11.00     1.00     1.00     0.00  \n",
       "75%         2.00      23.00     1.00     1.00     1.00  \n",
       "max       226.00    3045.00     1.00     1.00     1.00  "
      ],
      "text/html": [
       "<div>\n",
       "<style scoped>\n",
       "    .dataframe tbody tr th:only-of-type {\n",
       "        vertical-align: middle;\n",
       "    }\n",
       "\n",
       "    .dataframe tbody tr th {\n",
       "        vertical-align: top;\n",
       "    }\n",
       "\n",
       "    .dataframe thead th {\n",
       "        text-align: right;\n",
       "    }\n",
       "</style>\n",
       "<table border=\"1\" class=\"dataframe\">\n",
       "  <thead>\n",
       "    <tr style=\"text-align: right;\">\n",
       "      <th></th>\n",
       "      <th>bins_0_75</th>\n",
       "      <th>bins_1_75</th>\n",
       "      <th>bins_2_75</th>\n",
       "      <th>bins_3_75</th>\n",
       "      <th>bins_4_75</th>\n",
       "      <th>bins_5_75</th>\n",
       "      <th>bins_6_75</th>\n",
       "      <th>bins_7_75</th>\n",
       "      <th>Entry</th>\n",
       "      <th>Exit</th>\n",
       "      <th>outcome</th>\n",
       "    </tr>\n",
       "  </thead>\n",
       "  <tbody>\n",
       "    <tr>\n",
       "      <th>count</th>\n",
       "      <td>3371.00</td>\n",
       "      <td>3371.00</td>\n",
       "      <td>3371.00</td>\n",
       "      <td>3371.00</td>\n",
       "      <td>3371.00</td>\n",
       "      <td>3371.00</td>\n",
       "      <td>3371.00</td>\n",
       "      <td>3371.00</td>\n",
       "      <td>3371.00</td>\n",
       "      <td>3371.00</td>\n",
       "      <td>3371.00</td>\n",
       "    </tr>\n",
       "    <tr>\n",
       "      <th>mean</th>\n",
       "      <td>680.39</td>\n",
       "      <td>265.86</td>\n",
       "      <td>154.05</td>\n",
       "      <td>2789.51</td>\n",
       "      <td>902.21</td>\n",
       "      <td>3.37</td>\n",
       "      <td>3.23</td>\n",
       "      <td>127.00</td>\n",
       "      <td>0.99</td>\n",
       "      <td>0.61</td>\n",
       "      <td>0.48</td>\n",
       "    </tr>\n",
       "    <tr>\n",
       "      <th>std</th>\n",
       "      <td>1119.35</td>\n",
       "      <td>672.76</td>\n",
       "      <td>368.04</td>\n",
       "      <td>3650.37</td>\n",
       "      <td>3142.39</td>\n",
       "      <td>13.91</td>\n",
       "      <td>11.00</td>\n",
       "      <td>444.62</td>\n",
       "      <td>0.09</td>\n",
       "      <td>0.49</td>\n",
       "      <td>0.50</td>\n",
       "    </tr>\n",
       "    <tr>\n",
       "      <th>min</th>\n",
       "      <td>0.00</td>\n",
       "      <td>0.00</td>\n",
       "      <td>0.00</td>\n",
       "      <td>0.00</td>\n",
       "      <td>0.00</td>\n",
       "      <td>0.00</td>\n",
       "      <td>0.00</td>\n",
       "      <td>0.00</td>\n",
       "      <td>0.00</td>\n",
       "      <td>0.00</td>\n",
       "      <td>0.00</td>\n",
       "    </tr>\n",
       "    <tr>\n",
       "      <th>25%</th>\n",
       "      <td>0.00</td>\n",
       "      <td>3.00</td>\n",
       "      <td>4.00</td>\n",
       "      <td>4.00</td>\n",
       "      <td>2.00</td>\n",
       "      <td>0.00</td>\n",
       "      <td>0.00</td>\n",
       "      <td>1.00</td>\n",
       "      <td>1.00</td>\n",
       "      <td>0.00</td>\n",
       "      <td>0.00</td>\n",
       "    </tr>\n",
       "    <tr>\n",
       "      <th>50%</th>\n",
       "      <td>71.00</td>\n",
       "      <td>32.00</td>\n",
       "      <td>26.00</td>\n",
       "      <td>1584.00</td>\n",
       "      <td>7.00</td>\n",
       "      <td>1.00</td>\n",
       "      <td>1.00</td>\n",
       "      <td>11.00</td>\n",
       "      <td>1.00</td>\n",
       "      <td>1.00</td>\n",
       "      <td>0.00</td>\n",
       "    </tr>\n",
       "    <tr>\n",
       "      <th>75%</th>\n",
       "      <td>1067.00</td>\n",
       "      <td>183.00</td>\n",
       "      <td>154.00</td>\n",
       "      <td>4051.00</td>\n",
       "      <td>23.50</td>\n",
       "      <td>2.00</td>\n",
       "      <td>2.00</td>\n",
       "      <td>23.00</td>\n",
       "      <td>1.00</td>\n",
       "      <td>1.00</td>\n",
       "      <td>1.00</td>\n",
       "    </tr>\n",
       "    <tr>\n",
       "      <th>max</th>\n",
       "      <td>7510.00</td>\n",
       "      <td>7768.00</td>\n",
       "      <td>4909.00</td>\n",
       "      <td>16697.00</td>\n",
       "      <td>18426.00</td>\n",
       "      <td>248.00</td>\n",
       "      <td>226.00</td>\n",
       "      <td>3045.00</td>\n",
       "      <td>1.00</td>\n",
       "      <td>1.00</td>\n",
       "      <td>1.00</td>\n",
       "    </tr>\n",
       "  </tbody>\n",
       "</table>\n",
       "</div>"
      ]
     },
     "execution_count": 38,
     "metadata": {},
     "output_type": "execute_result"
    }
   ],
   "execution_count": 38
  },
  {
   "metadata": {
    "ExecuteTime": {
     "end_time": "2024-08-03T10:58:11.080545Z",
     "start_time": "2024-08-03T10:58:11.065531Z"
    }
   },
   "cell_type": "code",
   "source": [
    "df_unique = remove_file_indicator(df_unique)"
   ],
   "id": "74a8b29b29076ec3",
   "outputs": [
    {
     "name": "stdout",
     "output_type": "stream",
     "text": [
      "Index(['bins_0_75', 'bins_1_75', 'bins_2_75', 'bins_3_75', 'bins_4_75',\n",
      "       'bins_5_75', 'bins_6_75', 'bins_7_75', 'Entry', 'Exit', 'outcome'],\n",
      "      dtype='object')\n"
     ]
    },
    {
     "name": "stderr",
     "output_type": "stream",
     "text": [
      "C:\\Users\\Andreas Aditya\\AppData\\Local\\Temp\\ipykernel_94240\\4137383933.py:15: SettingWithCopyWarning: \n",
      "A value is trying to be set on a copy of a slice from a DataFrame\n",
      "\n",
      "See the caveats in the documentation: https://pandas.pydata.org/pandas-docs/stable/user_guide/indexing.html#returning-a-view-versus-a-copy\n",
      "  dataframe.drop(columns=[\"path_label\", \"scenario\"], inplace=True)\n"
     ]
    }
   ],
   "execution_count": 41
  },
  {
   "metadata": {
    "ExecuteTime": {
     "end_time": "2024-08-03T11:01:15.758063Z",
     "start_time": "2024-08-03T11:01:15.751057Z"
    }
   },
   "cell_type": "code",
   "source": [
    "df_unique = clean_validentry(df_unique)"
   ],
   "id": "6112d8bf3be3ea2f",
   "outputs": [
    {
     "name": "stdout",
     "output_type": "stream",
     "text": [
      "shape before cleaning: 3371\n",
      "shape after cleaning: 3345\n",
      "Index(['bins_0_75', 'bins_1_75', 'bins_2_75', 'bins_3_75', 'bins_4_75',\n",
      "       'bins_5_75', 'bins_6_75', 'bins_7_75', 'Exit', 'outcome'],\n",
      "      dtype='object')\n"
     ]
    },
    {
     "name": "stderr",
     "output_type": "stream",
     "text": [
      "C:\\Users\\Andreas Aditya\\AppData\\Local\\Temp\\ipykernel_94240\\2115799833.py:26: SettingWithCopyWarning: \n",
      "A value is trying to be set on a copy of a slice from a DataFrame\n",
      "\n",
      "See the caveats in the documentation: https://pandas.pydata.org/pandas-docs/stable/user_guide/indexing.html#returning-a-view-versus-a-copy\n",
      "  valid_entry.drop(columns=['Entry'], inplace=True)\n"
     ]
    }
   ],
   "execution_count": 45
  },
  {
   "metadata": {},
   "cell_type": "markdown",
   "source": [
    "# Eploratory Data Analysis"
   ],
   "id": "b4139561ae2fa957"
  },
  {
   "metadata": {
    "ExecuteTime": {
     "end_time": "2024-08-03T11:02:37.603156Z",
     "start_time": "2024-08-03T11:02:37.130503Z"
    }
   },
   "cell_type": "code",
   "source": [
    "df_corr = df_unique.corr()\n",
    "sns.heatmap(round(df_corr,2), annot=True)"
   ],
   "id": "ae0e596a572755f0",
   "outputs": [
    {
     "data": {
      "text/plain": [
       "<Axes: >"
      ]
     },
     "execution_count": 46,
     "metadata": {},
     "output_type": "execute_result"
    },
    {
     "data": {
      "text/plain": [
       "<Figure size 640x480 with 2 Axes>"
      ],
      "image/png": "[encoded data removed]"
     },
     "metadata": {},
     "output_type": "display_data"
    }
   ],
   "execution_count": 46
  },
  {
   "metadata": {},
   "cell_type": "markdown",
   "source": [
    "show class balance "
   ],
   "id": "36671c000543e8ea"
  },
  {
   "metadata": {
    "ExecuteTime": {
     "end_time": "2024-08-03T11:04:27.723636Z",
     "start_time": "2024-08-03T11:04:27.574500Z"
    }
   },
   "cell_type": "code",
   "source": [
    "target_counts = df_unique['outcome'].value_counts()\n",
    "\n",
    "sns.barplot(x=target_counts.index, y=target_counts.values)\n",
    "ratio= []\n",
    "labels = []\n",
    "\n",
    "for i, count in zip(target_counts.index, target_counts.values):\n",
    "    labels.append(f'{i}: {count}')\n",
    "    num_str = labels[i][3:]\n",
    "    num = int(num_str)\n",
    "    ratio.append(num)\n",
    "\n",
    "cls_ratio = round(min(ratio) / df_unique.shape[0], 2)\n",
    "plt.legend(title=\"# Observation\", labels=labels)\n",
    "plt.ylabel(\"# of instances\")\n",
    "plt.title(f\"Count of Class Instances with Minor-Major Ratio ({cls_ratio})\")"
   ],
   "id": "5d0ced37df456a67",
   "outputs": [
    {
     "data": {
      "text/plain": [
       "Text(0.5, 1.0, 'Count of Class Instances with Minor-Major Ratio (0.48)')"
      ]
     },
     "execution_count": 47,
     "metadata": {},
     "output_type": "execute_result"
    },
    {
     "data": {
      "text/plain": [
       "<Figure size 640x480 with 1 Axes>"
      ],
      "image/png": "[encoded data removed]"
     },
     "metadata": {},
     "output_type": "display_data"
    }
   ],
   "execution_count": 47
  },
  {
   "metadata": {
    "ExecuteTime": {
     "end_time": "2024-08-03T11:34:06.070289Z",
     "start_time": "2024-08-03T11:34:05.865111Z"
    }
   },
   "cell_type": "code",
   "source": [
    "# Filter data where Outcome is 1\n",
    "crash_outcome = df_unique[df_unique['outcome'] == 1]\n",
    "normal_outcome = df_unique[df_unique['outcome'] == 0]\n",
    "\n",
    "fig, axes = plt.subplots(nrows=1, ncols=2, figsize=(12, 6))\n",
    "\n",
    "for i, ax in enumerate(axes):\n",
    "    \n",
    "    ## Define condition to display\n",
    "    condition = df_unique[df_unique['outcome'] == i]\n",
    "    condition['Exit'].value_counts().sort_index().plot(kind='bar', ax=ax, color=['blue', 'orange'], edgecolor='black')\n",
    "    \n",
    "    ## calculate exit-ratio \n",
    "    exit_ratio = condition.query(\"Exit == 1\").shape[0] / condition.shape[0]\n",
    "    ax.set_title(f'Distribution of exit-status for {\"NORMAL\" if i==0 else \"CRASH\"} outcome:  {round(exit_ratio, 2)}')\n",
    "    ax.set_xlabel('did vehicle successfully exit the intersection?')\n",
    "    ax.set_ylabel('Count')\n",
    "    ax.set_xticks([0, 1])\n",
    "    ax.set_xticklabels(['False', 'True'], rotation=360)\n",
    "\n",
    "# Adjust layout\n",
    "plt.tight_layout()\n",
    "plt.show()"
   ],
   "id": "eb650894ba55a89b",
   "outputs": [
    {
     "data": {
      "text/plain": [
       "<Figure size 1200x600 with 2 Axes>"
      ],
      "image/png": "[encoded data removed]"
     },
     "metadata": {},
     "output_type": "display_data"
    }
   ],
   "execution_count": 73
  },
  {
   "metadata": {},
   "cell_type": "markdown",
   "source": [
    "Check data before scaling"
   ],
   "id": "5043b7fbd6bbdf59"
  },
  {
   "metadata": {
    "ExecuteTime": {
     "end_time": "2024-08-03T11:36:25.059710Z",
     "start_time": "2024-08-03T11:36:25.030685Z"
    }
   },
   "cell_type": "code",
   "source": [
    "df_unique.describe()"
   ],
   "id": "6acc04e6cdaca95",
   "outputs": [
    {
     "data": {
      "text/plain": [
       "         bins_0_75    bins_1_75    bins_2_75     bins_3_75     bins_4_75  \\\n",
       "count  3345.000000  3345.000000  3345.000000   3345.000000   3345.000000   \n",
       "mean    675.751570   267.563827   155.052317   2806.184753    908.983857   \n",
       "std    1119.813725   675.045090   369.271844   3657.867358   3153.635208   \n",
       "min       0.000000     0.000000     0.000000      0.000000      0.000000   \n",
       "25%       0.000000     3.000000     4.000000      4.000000      2.000000   \n",
       "50%      69.000000    32.000000    26.000000   1604.000000      7.000000   \n",
       "75%    1048.000000   185.000000   156.000000   4070.000000     24.000000   \n",
       "max    7510.000000  7768.000000  4909.000000  16697.000000  18426.000000   \n",
       "\n",
       "         bins_5_75    bins_6_75    bins_7_75         Exit      outcome  \n",
       "count  3345.000000  3345.000000  3345.000000  3345.000000  3345.000000  \n",
       "mean      3.377877     3.246039   127.772197     0.610762     0.480419  \n",
       "std      13.964458    11.046072   446.256983     0.487650     0.499691  \n",
       "min       0.000000     0.000000     0.000000     0.000000     0.000000  \n",
       "25%       0.000000     0.000000     1.000000     0.000000     0.000000  \n",
       "50%       1.000000     1.000000    11.000000     1.000000     0.000000  \n",
       "75%       2.000000     2.000000    23.000000     1.000000     1.000000  \n",
       "max     248.000000   226.000000  3045.000000     1.000000     1.000000  "
      ],
      "text/html": [
       "<div>\n",
       "<style scoped>\n",
       "    .dataframe tbody tr th:only-of-type {\n",
       "        vertical-align: middle;\n",
       "    }\n",
       "\n",
       "    .dataframe tbody tr th {\n",
       "        vertical-align: top;\n",
       "    }\n",
       "\n",
       "    .dataframe thead th {\n",
       "        text-align: right;\n",
       "    }\n",
       "</style>\n",
       "<table border=\"1\" class=\"dataframe\">\n",
       "  <thead>\n",
       "    <tr style=\"text-align: right;\">\n",
       "      <th></th>\n",
       "      <th>bins_0_75</th>\n",
       "      <th>bins_1_75</th>\n",
       "      <th>bins_2_75</th>\n",
       "      <th>bins_3_75</th>\n",
       "      <th>bins_4_75</th>\n",
       "      <th>bins_5_75</th>\n",
       "      <th>bins_6_75</th>\n",
       "      <th>bins_7_75</th>\n",
       "      <th>Exit</th>\n",
       "      <th>outcome</th>\n",
       "    </tr>\n",
       "  </thead>\n",
       "  <tbody>\n",
       "    <tr>\n",
       "      <th>count</th>\n",
       "      <td>3345.000000</td>\n",
       "      <td>3345.000000</td>\n",
       "      <td>3345.000000</td>\n",
       "      <td>3345.000000</td>\n",
       "      <td>3345.000000</td>\n",
       "      <td>3345.000000</td>\n",
       "      <td>3345.000000</td>\n",
       "      <td>3345.000000</td>\n",
       "      <td>3345.000000</td>\n",
       "      <td>3345.000000</td>\n",
       "    </tr>\n",
       "    <tr>\n",
       "      <th>mean</th>\n",
       "      <td>675.751570</td>\n",
       "      <td>267.563827</td>\n",
       "      <td>155.052317</td>\n",
       "      <td>2806.184753</td>\n",
       "      <td>908.983857</td>\n",
       "      <td>3.377877</td>\n",
       "      <td>3.246039</td>\n",
       "      <td>127.772197</td>\n",
       "      <td>0.610762</td>\n",
       "      <td>0.480419</td>\n",
       "    </tr>\n",
       "    <tr>\n",
       "      <th>std</th>\n",
       "      <td>1119.813725</td>\n",
       "      <td>675.045090</td>\n",
       "      <td>369.271844</td>\n",
       "      <td>3657.867358</td>\n",
       "      <td>3153.635208</td>\n",
       "      <td>13.964458</td>\n",
       "      <td>11.046072</td>\n",
       "      <td>446.256983</td>\n",
       "      <td>0.487650</td>\n",
       "      <td>0.499691</td>\n",
       "    </tr>\n",
       "    <tr>\n",
       "      <th>min</th>\n",
       "      <td>0.000000</td>\n",
       "      <td>0.000000</td>\n",
       "      <td>0.000000</td>\n",
       "      <td>0.000000</td>\n",
       "      <td>0.000000</td>\n",
       "      <td>0.000000</td>\n",
       "      <td>0.000000</td>\n",
       "      <td>0.000000</td>\n",
       "      <td>0.000000</td>\n",
       "      <td>0.000000</td>\n",
       "    </tr>\n",
       "    <tr>\n",
       "      <th>25%</th>\n",
       "      <td>0.000000</td>\n",
       "      <td>3.000000</td>\n",
       "      <td>4.000000</td>\n",
       "      <td>4.000000</td>\n",
       "      <td>2.000000</td>\n",
       "      <td>0.000000</td>\n",
       "      <td>0.000000</td>\n",
       "      <td>1.000000</td>\n",
       "      <td>0.000000</td>\n",
       "      <td>0.000000</td>\n",
       "    </tr>\n",
       "    <tr>\n",
       "      <th>50%</th>\n",
       "      <td>69.000000</td>\n",
       "      <td>32.000000</td>\n",
       "      <td>26.000000</td>\n",
       "      <td>1604.000000</td>\n",
       "      <td>7.000000</td>\n",
       "      <td>1.000000</td>\n",
       "      <td>1.000000</td>\n",
       "      <td>11.000000</td>\n",
       "      <td>1.000000</td>\n",
       "      <td>0.000000</td>\n",
       "    </tr>\n",
       "    <tr>\n",
       "      <th>75%</th>\n",
       "      <td>1048.000000</td>\n",
       "      <td>185.000000</td>\n",
       "      <td>156.000000</td>\n",
       "      <td>4070.000000</td>\n",
       "      <td>24.000000</td>\n",
       "      <td>2.000000</td>\n",
       "      <td>2.000000</td>\n",
       "      <td>23.000000</td>\n",
       "      <td>1.000000</td>\n",
       "      <td>1.000000</td>\n",
       "    </tr>\n",
       "    <tr>\n",
       "      <th>max</th>\n",
       "      <td>7510.000000</td>\n",
       "      <td>7768.000000</td>\n",
       "      <td>4909.000000</td>\n",
       "      <td>16697.000000</td>\n",
       "      <td>18426.000000</td>\n",
       "      <td>248.000000</td>\n",
       "      <td>226.000000</td>\n",
       "      <td>3045.000000</td>\n",
       "      <td>1.000000</td>\n",
       "      <td>1.000000</td>\n",
       "    </tr>\n",
       "  </tbody>\n",
       "</table>\n",
       "</div>"
      ]
     },
     "execution_count": 74,
     "metadata": {},
     "output_type": "execute_result"
    }
   ],
   "execution_count": 74
  },
  {
   "metadata": {
    "ExecuteTime": {
     "end_time": "2024-08-03T11:36:33.246640Z",
     "start_time": "2024-08-03T11:36:33.183583Z"
    }
   },
   "cell_type": "code",
   "source": [
    "df_unique.info()"
   ],
   "id": "c7e45688ccc38b6f",
   "outputs": [
    {
     "name": "stdout",
     "output_type": "stream",
     "text": [
      "<class 'pandas.core.frame.DataFrame'>\n",
      "Index: 3345 entries, 0 to 3730\n",
      "Data columns (total 10 columns):\n",
      " #   Column     Non-Null Count  Dtype  \n",
      "---  ------     --------------  -----  \n",
      " 0   bins_0_75  3345 non-null   float64\n",
      " 1   bins_1_75  3345 non-null   float64\n",
      " 2   bins_2_75  3345 non-null   float64\n",
      " 3   bins_3_75  3345 non-null   float64\n",
      " 4   bins_4_75  3345 non-null   float64\n",
      " 5   bins_5_75  3345 non-null   float64\n",
      " 6   bins_6_75  3345 non-null   float64\n",
      " 7   bins_7_75  3345 non-null   float64\n",
      " 8   Exit       3345 non-null   int64  \n",
      " 9   outcome    3345 non-null   int64  \n",
      "dtypes: float64(8), int64(2)\n",
      "memory usage: 287.5 KB\n"
     ]
    }
   ],
   "execution_count": 75
  },
  {
   "metadata": {
    "ExecuteTime": {
     "end_time": "2024-08-03T11:36:45.700508Z",
     "start_time": "2024-08-03T11:36:45.676486Z"
    }
   },
   "cell_type": "code",
   "source": [
    "df_unique.head(10)"
   ],
   "id": "63f99bcf92b92df0",
   "outputs": [
    {
     "data": {
      "text/plain": [
       "   bins_0_75  bins_1_75  bins_2_75  bins_3_75  bins_4_75  bins_5_75  \\\n",
       "0      325.0       30.0        2.0        3.0        2.0        0.0   \n",
       "1        0.0        1.0       97.0     2974.0       20.0        1.0   \n",
       "2      386.0       30.0        2.0        2.0        2.0        0.0   \n",
       "3        0.0        2.0       91.0     2957.0       16.0        1.0   \n",
       "4      219.0      182.0        2.0        3.0        2.0        0.0   \n",
       "5        0.0        4.0       60.0     3049.0       15.0        4.0   \n",
       "6      151.0      204.0        2.0        3.0        1.0        0.0   \n",
       "7        6.0       75.0       53.0     3359.0       16.0        0.0   \n",
       "8        3.0      807.0       50.0     3727.0       12.0        0.0   \n",
       "9       81.0      263.0      506.0       18.0        2.0        0.0   \n",
       "\n",
       "   bins_6_75  bins_7_75  Exit  outcome  \n",
       "0        1.0       20.0     1        1  \n",
       "1        1.0        9.0     0        1  \n",
       "2        1.0       20.0     1        1  \n",
       "3        2.0       16.0     0        1  \n",
       "4        1.0       21.0     1        1  \n",
       "5        4.0       12.0     0        1  \n",
       "6        0.0       20.0     1        1  \n",
       "7        1.0        7.0     0        1  \n",
       "8        0.0        2.0     0        1  \n",
       "9        1.0       21.0     0        1  "
      ],
      "text/html": [
       "<div>\n",
       "<style scoped>\n",
       "    .dataframe tbody tr th:only-of-type {\n",
       "        vertical-align: middle;\n",
       "    }\n",
       "\n",
       "    .dataframe tbody tr th {\n",
       "        vertical-align: top;\n",
       "    }\n",
       "\n",
       "    .dataframe thead th {\n",
       "        text-align: right;\n",
       "    }\n",
       "</style>\n",
       "<table border=\"1\" class=\"dataframe\">\n",
       "  <thead>\n",
       "    <tr style=\"text-align: right;\">\n",
       "      <th></th>\n",
       "      <th>bins_0_75</th>\n",
       "      <th>bins_1_75</th>\n",
       "      <th>bins_2_75</th>\n",
       "      <th>bins_3_75</th>\n",
       "      <th>bins_4_75</th>\n",
       "      <th>bins_5_75</th>\n",
       "      <th>bins_6_75</th>\n",
       "      <th>bins_7_75</th>\n",
       "      <th>Exit</th>\n",
       "      <th>outcome</th>\n",
       "    </tr>\n",
       "  </thead>\n",
       "  <tbody>\n",
       "    <tr>\n",
       "      <th>0</th>\n",
       "      <td>325.0</td>\n",
       "      <td>30.0</td>\n",
       "      <td>2.0</td>\n",
       "      <td>3.0</td>\n",
       "      <td>2.0</td>\n",
       "      <td>0.0</td>\n",
       "      <td>1.0</td>\n",
       "      <td>20.0</td>\n",
       "      <td>1</td>\n",
       "      <td>1</td>\n",
       "    </tr>\n",
       "    <tr>\n",
       "      <th>1</th>\n",
       "      <td>0.0</td>\n",
       "      <td>1.0</td>\n",
       "      <td>97.0</td>\n",
       "      <td>2974.0</td>\n",
       "      <td>20.0</td>\n",
       "      <td>1.0</td>\n",
       "      <td>1.0</td>\n",
       "      <td>9.0</td>\n",
       "      <td>0</td>\n",
       "      <td>1</td>\n",
       "    </tr>\n",
       "    <tr>\n",
       "      <th>2</th>\n",
       "      <td>386.0</td>\n",
       "      <td>30.0</td>\n",
       "      <td>2.0</td>\n",
       "      <td>2.0</td>\n",
       "      <td>2.0</td>\n",
       "      <td>0.0</td>\n",
       "      <td>1.0</td>\n",
       "      <td>20.0</td>\n",
       "      <td>1</td>\n",
       "      <td>1</td>\n",
       "    </tr>\n",
       "    <tr>\n",
       "      <th>3</th>\n",
       "      <td>0.0</td>\n",
       "      <td>2.0</td>\n",
       "      <td>91.0</td>\n",
       "      <td>2957.0</td>\n",
       "      <td>16.0</td>\n",
       "      <td>1.0</td>\n",
       "      <td>2.0</td>\n",
       "      <td>16.0</td>\n",
       "      <td>0</td>\n",
       "      <td>1</td>\n",
       "    </tr>\n",
       "    <tr>\n",
       "      <th>4</th>\n",
       "      <td>219.0</td>\n",
       "      <td>182.0</td>\n",
       "      <td>2.0</td>\n",
       "      <td>3.0</td>\n",
       "      <td>2.0</td>\n",
       "      <td>0.0</td>\n",
       "      <td>1.0</td>\n",
       "      <td>21.0</td>\n",
       "      <td>1</td>\n",
       "      <td>1</td>\n",
       "    </tr>\n",
       "    <tr>\n",
       "      <th>5</th>\n",
       "      <td>0.0</td>\n",
       "      <td>4.0</td>\n",
       "      <td>60.0</td>\n",
       "      <td>3049.0</td>\n",
       "      <td>15.0</td>\n",
       "      <td>4.0</td>\n",
       "      <td>4.0</td>\n",
       "      <td>12.0</td>\n",
       "      <td>0</td>\n",
       "      <td>1</td>\n",
       "    </tr>\n",
       "    <tr>\n",
       "      <th>6</th>\n",
       "      <td>151.0</td>\n",
       "      <td>204.0</td>\n",
       "      <td>2.0</td>\n",
       "      <td>3.0</td>\n",
       "      <td>1.0</td>\n",
       "      <td>0.0</td>\n",
       "      <td>0.0</td>\n",
       "      <td>20.0</td>\n",
       "      <td>1</td>\n",
       "      <td>1</td>\n",
       "    </tr>\n",
       "    <tr>\n",
       "      <th>7</th>\n",
       "      <td>6.0</td>\n",
       "      <td>75.0</td>\n",
       "      <td>53.0</td>\n",
       "      <td>3359.0</td>\n",
       "      <td>16.0</td>\n",
       "      <td>0.0</td>\n",
       "      <td>1.0</td>\n",
       "      <td>7.0</td>\n",
       "      <td>0</td>\n",
       "      <td>1</td>\n",
       "    </tr>\n",
       "    <tr>\n",
       "      <th>8</th>\n",
       "      <td>3.0</td>\n",
       "      <td>807.0</td>\n",
       "      <td>50.0</td>\n",
       "      <td>3727.0</td>\n",
       "      <td>12.0</td>\n",
       "      <td>0.0</td>\n",
       "      <td>0.0</td>\n",
       "      <td>2.0</td>\n",
       "      <td>0</td>\n",
       "      <td>1</td>\n",
       "    </tr>\n",
       "    <tr>\n",
       "      <th>9</th>\n",
       "      <td>81.0</td>\n",
       "      <td>263.0</td>\n",
       "      <td>506.0</td>\n",
       "      <td>18.0</td>\n",
       "      <td>2.0</td>\n",
       "      <td>0.0</td>\n",
       "      <td>1.0</td>\n",
       "      <td>21.0</td>\n",
       "      <td>0</td>\n",
       "      <td>1</td>\n",
       "    </tr>\n",
       "  </tbody>\n",
       "</table>\n",
       "</div>"
      ]
     },
     "execution_count": 76,
     "metadata": {},
     "output_type": "execute_result"
    }
   ],
   "execution_count": 76
  },
  {
   "metadata": {},
   "cell_type": "markdown",
   "source": [
    "# Split Train Valid Test data"
   ],
   "id": "568fe5dc5c8fdd0c"
  },
  {
   "metadata": {},
   "cell_type": "markdown",
   "source": [
    "define input"
   ],
   "id": "28c15e4cbae0d13d"
  },
  {
   "metadata": {
    "ExecuteTime": {
     "end_time": "2024-08-03T11:44:26.225995Z",
     "start_time": "2024-08-03T11:44:26.195968Z"
    }
   },
   "cell_type": "code",
   "source": [
    "X = df_unique.drop(\"outcome\", axis=1)\n",
    "X.describe()"
   ],
   "id": "26388261c250dc29",
   "outputs": [
    {
     "data": {
      "text/plain": [
       "         bins_0_75    bins_1_75    bins_2_75     bins_3_75     bins_4_75  \\\n",
       "count  3345.000000  3345.000000  3345.000000   3345.000000   3345.000000   \n",
       "mean    675.751570   267.563827   155.052317   2806.184753    908.983857   \n",
       "std    1119.813725   675.045090   369.271844   3657.867358   3153.635208   \n",
       "min       0.000000     0.000000     0.000000      0.000000      0.000000   \n",
       "25%       0.000000     3.000000     4.000000      4.000000      2.000000   \n",
       "50%      69.000000    32.000000    26.000000   1604.000000      7.000000   \n",
       "75%    1048.000000   185.000000   156.000000   4070.000000     24.000000   \n",
       "max    7510.000000  7768.000000  4909.000000  16697.000000  18426.000000   \n",
       "\n",
       "         bins_5_75    bins_6_75    bins_7_75         Exit  \n",
       "count  3345.000000  3345.000000  3345.000000  3345.000000  \n",
       "mean      3.377877     3.246039   127.772197     0.610762  \n",
       "std      13.964458    11.046072   446.256983     0.487650  \n",
       "min       0.000000     0.000000     0.000000     0.000000  \n",
       "25%       0.000000     0.000000     1.000000     0.000000  \n",
       "50%       1.000000     1.000000    11.000000     1.000000  \n",
       "75%       2.000000     2.000000    23.000000     1.000000  \n",
       "max     248.000000   226.000000  3045.000000     1.000000  "
      ],
      "text/html": [
       "<div>\n",
       "<style scoped>\n",
       "    .dataframe tbody tr th:only-of-type {\n",
       "        vertical-align: middle;\n",
       "    }\n",
       "\n",
       "    .dataframe tbody tr th {\n",
       "        vertical-align: top;\n",
       "    }\n",
       "\n",
       "    .dataframe thead th {\n",
       "        text-align: right;\n",
       "    }\n",
       "</style>\n",
       "<table border=\"1\" class=\"dataframe\">\n",
       "  <thead>\n",
       "    <tr style=\"text-align: right;\">\n",
       "      <th></th>\n",
       "      <th>bins_0_75</th>\n",
       "      <th>bins_1_75</th>\n",
       "      <th>bins_2_75</th>\n",
       "      <th>bins_3_75</th>\n",
       "      <th>bins_4_75</th>\n",
       "      <th>bins_5_75</th>\n",
       "      <th>bins_6_75</th>\n",
       "      <th>bins_7_75</th>\n",
       "      <th>Exit</th>\n",
       "    </tr>\n",
       "  </thead>\n",
       "  <tbody>\n",
       "    <tr>\n",
       "      <th>count</th>\n",
       "      <td>3345.000000</td>\n",
       "      <td>3345.000000</td>\n",
       "      <td>3345.000000</td>\n",
       "      <td>3345.000000</td>\n",
       "      <td>3345.000000</td>\n",
       "      <td>3345.000000</td>\n",
       "      <td>3345.000000</td>\n",
       "      <td>3345.000000</td>\n",
       "      <td>3345.000000</td>\n",
       "    </tr>\n",
       "    <tr>\n",
       "      <th>mean</th>\n",
       "      <td>675.751570</td>\n",
       "      <td>267.563827</td>\n",
       "      <td>155.052317</td>\n",
       "      <td>2806.184753</td>\n",
       "      <td>908.983857</td>\n",
       "      <td>3.377877</td>\n",
       "      <td>3.246039</td>\n",
       "      <td>127.772197</td>\n",
       "      <td>0.610762</td>\n",
       "    </tr>\n",
       "    <tr>\n",
       "      <th>std</th>\n",
       "      <td>1119.813725</td>\n",
       "      <td>675.045090</td>\n",
       "      <td>369.271844</td>\n",
       "      <td>3657.867358</td>\n",
       "      <td>3153.635208</td>\n",
       "      <td>13.964458</td>\n",
       "      <td>11.046072</td>\n",
       "      <td>446.256983</td>\n",
       "      <td>0.487650</td>\n",
       "    </tr>\n",
       "    <tr>\n",
       "      <th>min</th>\n",
       "      <td>0.000000</td>\n",
       "      <td>0.000000</td>\n",
       "      <td>0.000000</td>\n",
       "      <td>0.000000</td>\n",
       "      <td>0.000000</td>\n",
       "      <td>0.000000</td>\n",
       "      <td>0.000000</td>\n",
       "      <td>0.000000</td>\n",
       "      <td>0.000000</td>\n",
       "    </tr>\n",
       "    <tr>\n",
       "      <th>25%</th>\n",
       "      <td>0.000000</td>\n",
       "      <td>3.000000</td>\n",
       "      <td>4.000000</td>\n",
       "      <td>4.000000</td>\n",
       "      <td>2.000000</td>\n",
       "      <td>0.000000</td>\n",
       "      <td>0.000000</td>\n",
       "      <td>1.000000</td>\n",
       "      <td>0.000000</td>\n",
       "    </tr>\n",
       "    <tr>\n",
       "      <th>50%</th>\n",
       "      <td>69.000000</td>\n",
       "      <td>32.000000</td>\n",
       "      <td>26.000000</td>\n",
       "      <td>1604.000000</td>\n",
       "      <td>7.000000</td>\n",
       "      <td>1.000000</td>\n",
       "      <td>1.000000</td>\n",
       "      <td>11.000000</td>\n",
       "      <td>1.000000</td>\n",
       "    </tr>\n",
       "    <tr>\n",
       "      <th>75%</th>\n",
       "      <td>1048.000000</td>\n",
       "      <td>185.000000</td>\n",
       "      <td>156.000000</td>\n",
       "      <td>4070.000000</td>\n",
       "      <td>24.000000</td>\n",
       "      <td>2.000000</td>\n",
       "      <td>2.000000</td>\n",
       "      <td>23.000000</td>\n",
       "      <td>1.000000</td>\n",
       "    </tr>\n",
       "    <tr>\n",
       "      <th>max</th>\n",
       "      <td>7510.000000</td>\n",
       "      <td>7768.000000</td>\n",
       "      <td>4909.000000</td>\n",
       "      <td>16697.000000</td>\n",
       "      <td>18426.000000</td>\n",
       "      <td>248.000000</td>\n",
       "      <td>226.000000</td>\n",
       "      <td>3045.000000</td>\n",
       "      <td>1.000000</td>\n",
       "    </tr>\n",
       "  </tbody>\n",
       "</table>\n",
       "</div>"
      ]
     },
     "execution_count": 79,
     "metadata": {},
     "output_type": "execute_result"
    }
   ],
   "execution_count": 79
  },
  {
   "metadata": {},
   "cell_type": "markdown",
   "source": [
    "define output"
   ],
   "id": "ba804f9654f4f051"
  },
  {
   "metadata": {
    "ExecuteTime": {
     "end_time": "2024-08-03T11:45:05.811357Z",
     "start_time": "2024-08-03T11:45:05.801348Z"
    }
   },
   "cell_type": "code",
   "source": [
    "y = df_unique['outcome']\n",
    "y.describe()"
   ],
   "id": "3a14a503e146f91b",
   "outputs": [
    {
     "data": {
      "text/plain": [
       "count    3345.000000\n",
       "mean        0.480419\n",
       "std         0.499691\n",
       "min         0.000000\n",
       "25%         0.000000\n",
       "50%         0.000000\n",
       "75%         1.000000\n",
       "max         1.000000\n",
       "Name: outcome, dtype: float64"
      ]
     },
     "execution_count": 82,
     "metadata": {},
     "output_type": "execute_result"
    }
   ],
   "execution_count": 82
  },
  {
   "metadata": {},
   "cell_type": "markdown",
   "source": [
    "### Split train valid test"
   ],
   "id": "fa5d3e35d08ca84b"
  },
  {
   "metadata": {
    "ExecuteTime": {
     "end_time": "2024-08-03T11:46:46.796560Z",
     "start_time": "2024-08-03T11:46:46.782079Z"
    }
   },
   "cell_type": "code",
   "source": [
    " # first batch Train and temp\n",
    "X_train, X_temp, y_train, y_temp = train_test_split(X, y,test_size=0.2,\n",
    "                                                              random_state=123)\n",
    "  \n",
    " # first batch Train and temp\n",
    "X_valid, X_test, y_valid, y_test = train_test_split(X_temp, y_temp,test_size=0.5,\n",
    "                                                              random_state=123)"
   ],
   "id": "1b8e2961781579aa",
   "outputs": [],
   "execution_count": 83
  },
  {
   "metadata": {},
   "cell_type": "markdown",
   "source": [
    "Data Validation"
   ],
   "id": "49a7b62be03a1a41"
  },
  {
   "metadata": {
    "ExecuteTime": {
     "end_time": "2024-08-03T11:46:50.498003Z",
     "start_time": "2024-08-03T11:46:50.484991Z"
    }
   },
   "cell_type": "code",
   "source": [
    "# print out result\n",
    "print(f\"X train shape:{X_train.shape} with portion of {round(len(X_train) / len(X),4)}\")\n",
    "print(f\"y train shape:{y_train.shape} with portion of {round(len(y_train) / len(y),4)}\")\n",
    "print(\"\")\n",
    "\n",
    "print(f\"X valid shape: {X_valid.shape} with portion of {round(len(X_valid) / len(X),4)}\")\n",
    "print(f\"y valid shape: {y_valid.shape} with portion of {round(len(y_valid) / len(y),4)}\")\n",
    "print(\"\")\n",
    "\n",
    "print(f\"X test  shape: {X_test.shape} with portion of {round(len(X_test) / len(X),4)}\")\n",
    "print(f\"y test  shape: {y_test.shape} with portion of {round(len(y_test) / len(y),4)}\")"
   ],
   "id": "90fa18e3bd4004b2",
   "outputs": [
    {
     "name": "stdout",
     "output_type": "stream",
     "text": [
      "X train shape:(2676, 9) with portion of 0.8\n",
      "y train shape:(2676,) with portion of 0.8\n",
      "\n",
      "X valid shape: (334, 9) with portion of 0.0999\n",
      "y valid shape: (334,) with portion of 0.0999\n",
      "\n",
      "X test  shape: (335, 9) with portion of 0.1001\n",
      "y test  shape: (335,) with portion of 0.1001\n"
     ]
    }
   ],
   "execution_count": 84
  },
  {
   "metadata": {},
   "cell_type": "markdown",
   "source": [
    "#### Train data validation"
   ],
   "id": "8dd3020d5a486622"
  },
  {
   "metadata": {
    "ExecuteTime": {
     "end_time": "2024-08-03T11:47:21.371415Z",
     "start_time": "2024-08-03T11:47:21.347981Z"
    }
   },
   "cell_type": "code",
   "source": [
    "X_train.describe()"
   ],
   "id": "90df80e5a2a53b67",
   "outputs": [
    {
     "data": {
      "text/plain": [
       "         bins_0_75    bins_1_75    bins_2_75     bins_3_75     bins_4_75  \\\n",
       "count  2676.000000  2676.000000  2676.000000   2676.000000   2676.000000   \n",
       "mean    675.838939   265.953288   163.078475   2796.622197    897.276532   \n",
       "std    1124.011624   655.008504   390.772481   3624.836164   3118.025808   \n",
       "min       0.000000     0.000000     0.000000      0.000000      0.000000   \n",
       "25%       0.000000     3.000000     4.000000      4.000000      2.000000   \n",
       "50%      69.000000    34.000000    27.500000   1612.500000      7.000000   \n",
       "75%    1041.000000   193.250000   164.000000   4070.000000     24.000000   \n",
       "max    7510.000000  7768.000000  4909.000000  16697.000000  18426.000000   \n",
       "\n",
       "         bins_5_75    bins_6_75    bins_7_75         Exit  \n",
       "count  2676.000000  2676.000000  2676.000000  2676.000000  \n",
       "mean      3.343423     3.248879   126.027653     0.610239  \n",
       "std      13.886313    11.206344   443.107711     0.487787  \n",
       "min       0.000000     0.000000     0.000000     0.000000  \n",
       "25%       0.000000     0.000000     1.000000     0.000000  \n",
       "50%       1.000000     1.000000    10.000000     1.000000  \n",
       "75%       2.000000     2.000000    23.000000     1.000000  \n",
       "max     248.000000   226.000000  3045.000000     1.000000  "
      ],
      "text/html": [
       "<div>\n",
       "<style scoped>\n",
       "    .dataframe tbody tr th:only-of-type {\n",
       "        vertical-align: middle;\n",
       "    }\n",
       "\n",
       "    .dataframe tbody tr th {\n",
       "        vertical-align: top;\n",
       "    }\n",
       "\n",
       "    .dataframe thead th {\n",
       "        text-align: right;\n",
       "    }\n",
       "</style>\n",
       "<table border=\"1\" class=\"dataframe\">\n",
       "  <thead>\n",
       "    <tr style=\"text-align: right;\">\n",
       "      <th></th>\n",
       "      <th>bins_0_75</th>\n",
       "      <th>bins_1_75</th>\n",
       "      <th>bins_2_75</th>\n",
       "      <th>bins_3_75</th>\n",
       "      <th>bins_4_75</th>\n",
       "      <th>bins_5_75</th>\n",
       "      <th>bins_6_75</th>\n",
       "      <th>bins_7_75</th>\n",
       "      <th>Exit</th>\n",
       "    </tr>\n",
       "  </thead>\n",
       "  <tbody>\n",
       "    <tr>\n",
       "      <th>count</th>\n",
       "      <td>2676.000000</td>\n",
       "      <td>2676.000000</td>\n",
       "      <td>2676.000000</td>\n",
       "      <td>2676.000000</td>\n",
       "      <td>2676.000000</td>\n",
       "      <td>2676.000000</td>\n",
       "      <td>2676.000000</td>\n",
       "      <td>2676.000000</td>\n",
       "      <td>2676.000000</td>\n",
       "    </tr>\n",
       "    <tr>\n",
       "      <th>mean</th>\n",
       "      <td>675.838939</td>\n",
       "      <td>265.953288</td>\n",
       "      <td>163.078475</td>\n",
       "      <td>2796.622197</td>\n",
       "      <td>897.276532</td>\n",
       "      <td>3.343423</td>\n",
       "      <td>3.248879</td>\n",
       "      <td>126.027653</td>\n",
       "      <td>0.610239</td>\n",
       "    </tr>\n",
       "    <tr>\n",
       "      <th>std</th>\n",
       "      <td>1124.011624</td>\n",
       "      <td>655.008504</td>\n",
       "      <td>390.772481</td>\n",
       "      <td>3624.836164</td>\n",
       "      <td>3118.025808</td>\n",
       "      <td>13.886313</td>\n",
       "      <td>11.206344</td>\n",
       "      <td>443.107711</td>\n",
       "      <td>0.487787</td>\n",
       "    </tr>\n",
       "    <tr>\n",
       "      <th>min</th>\n",
       "      <td>0.000000</td>\n",
       "      <td>0.000000</td>\n",
       "      <td>0.000000</td>\n",
       "      <td>0.000000</td>\n",
       "      <td>0.000000</td>\n",
       "      <td>0.000000</td>\n",
       "      <td>0.000000</td>\n",
       "      <td>0.000000</td>\n",
       "      <td>0.000000</td>\n",
       "    </tr>\n",
       "    <tr>\n",
       "      <th>25%</th>\n",
       "      <td>0.000000</td>\n",
       "      <td>3.000000</td>\n",
       "      <td>4.000000</td>\n",
       "      <td>4.000000</td>\n",
       "      <td>2.000000</td>\n",
       "      <td>0.000000</td>\n",
       "      <td>0.000000</td>\n",
       "      <td>1.000000</td>\n",
       "      <td>0.000000</td>\n",
       "    </tr>\n",
       "    <tr>\n",
       "      <th>50%</th>\n",
       "      <td>69.000000</td>\n",
       "      <td>34.000000</td>\n",
       "      <td>27.500000</td>\n",
       "      <td>1612.500000</td>\n",
       "      <td>7.000000</td>\n",
       "      <td>1.000000</td>\n",
       "      <td>1.000000</td>\n",
       "      <td>10.000000</td>\n",
       "      <td>1.000000</td>\n",
       "    </tr>\n",
       "    <tr>\n",
       "      <th>75%</th>\n",
       "      <td>1041.000000</td>\n",
       "      <td>193.250000</td>\n",
       "      <td>164.000000</td>\n",
       "      <td>4070.000000</td>\n",
       "      <td>24.000000</td>\n",
       "      <td>2.000000</td>\n",
       "      <td>2.000000</td>\n",
       "      <td>23.000000</td>\n",
       "      <td>1.000000</td>\n",
       "    </tr>\n",
       "    <tr>\n",
       "      <th>max</th>\n",
       "      <td>7510.000000</td>\n",
       "      <td>7768.000000</td>\n",
       "      <td>4909.000000</td>\n",
       "      <td>16697.000000</td>\n",
       "      <td>18426.000000</td>\n",
       "      <td>248.000000</td>\n",
       "      <td>226.000000</td>\n",
       "      <td>3045.000000</td>\n",
       "      <td>1.000000</td>\n",
       "    </tr>\n",
       "  </tbody>\n",
       "</table>\n",
       "</div>"
      ]
     },
     "execution_count": 85,
     "metadata": {},
     "output_type": "execute_result"
    }
   ],
   "execution_count": 85
  },
  {
   "metadata": {
    "ExecuteTime": {
     "end_time": "2024-08-03T11:47:28.014749Z",
     "start_time": "2024-08-03T11:47:27.996733Z"
    }
   },
   "cell_type": "code",
   "source": [
    "X_train.head(5)"
   ],
   "id": "1117c26110d8dca5",
   "outputs": [
    {
     "data": {
      "text/plain": [
       "      bins_0_75  bins_1_75  bins_2_75  bins_3_75  bins_4_75  bins_5_75  \\\n",
       "119         0.0        0.0        5.0    13479.0        7.0        1.0   \n",
       "2836     2306.0      179.0      340.0     2132.0        3.0        0.0   \n",
       "353       142.0      106.0        2.0        2.0        3.0        1.0   \n",
       "2024      907.0        7.0        2.0        4.0        3.0        1.0   \n",
       "48        254.0       27.0        3.0        3.0        1.0        0.0   \n",
       "\n",
       "      bins_6_75  bins_7_75  Exit  \n",
       "119         1.0        0.0     1  \n",
       "2836        0.0        2.0     1  \n",
       "353         1.0       16.0     1  \n",
       "2024        2.0     1344.0     1  \n",
       "48          1.0       22.0     1  "
      ],
      "text/html": [
       "<div>\n",
       "<style scoped>\n",
       "    .dataframe tbody tr th:only-of-type {\n",
       "        vertical-align: middle;\n",
       "    }\n",
       "\n",
       "    .dataframe tbody tr th {\n",
       "        vertical-align: top;\n",
       "    }\n",
       "\n",
       "    .dataframe thead th {\n",
       "        text-align: right;\n",
       "    }\n",
       "</style>\n",
       "<table border=\"1\" class=\"dataframe\">\n",
       "  <thead>\n",
       "    <tr style=\"text-align: right;\">\n",
       "      <th></th>\n",
       "      <th>bins_0_75</th>\n",
       "      <th>bins_1_75</th>\n",
       "      <th>bins_2_75</th>\n",
       "      <th>bins_3_75</th>\n",
       "      <th>bins_4_75</th>\n",
       "      <th>bins_5_75</th>\n",
       "      <th>bins_6_75</th>\n",
       "      <th>bins_7_75</th>\n",
       "      <th>Exit</th>\n",
       "    </tr>\n",
       "  </thead>\n",
       "  <tbody>\n",
       "    <tr>\n",
       "      <th>119</th>\n",
       "      <td>0.0</td>\n",
       "      <td>0.0</td>\n",
       "      <td>5.0</td>\n",
       "      <td>13479.0</td>\n",
       "      <td>7.0</td>\n",
       "      <td>1.0</td>\n",
       "      <td>1.0</td>\n",
       "      <td>0.0</td>\n",
       "      <td>1</td>\n",
       "    </tr>\n",
       "    <tr>\n",
       "      <th>2836</th>\n",
       "      <td>2306.0</td>\n",
       "      <td>179.0</td>\n",
       "      <td>340.0</td>\n",
       "      <td>2132.0</td>\n",
       "      <td>3.0</td>\n",
       "      <td>0.0</td>\n",
       "      <td>0.0</td>\n",
       "      <td>2.0</td>\n",
       "      <td>1</td>\n",
       "    </tr>\n",
       "    <tr>\n",
       "      <th>353</th>\n",
       "      <td>142.0</td>\n",
       "      <td>106.0</td>\n",
       "      <td>2.0</td>\n",
       "      <td>2.0</td>\n",
       "      <td>3.0</td>\n",
       "      <td>1.0</td>\n",
       "      <td>1.0</td>\n",
       "      <td>16.0</td>\n",
       "      <td>1</td>\n",
       "    </tr>\n",
       "    <tr>\n",
       "      <th>2024</th>\n",
       "      <td>907.0</td>\n",
       "      <td>7.0</td>\n",
       "      <td>2.0</td>\n",
       "      <td>4.0</td>\n",
       "      <td>3.0</td>\n",
       "      <td>1.0</td>\n",
       "      <td>2.0</td>\n",
       "      <td>1344.0</td>\n",
       "      <td>1</td>\n",
       "    </tr>\n",
       "    <tr>\n",
       "      <th>48</th>\n",
       "      <td>254.0</td>\n",
       "      <td>27.0</td>\n",
       "      <td>3.0</td>\n",
       "      <td>3.0</td>\n",
       "      <td>1.0</td>\n",
       "      <td>0.0</td>\n",
       "      <td>1.0</td>\n",
       "      <td>22.0</td>\n",
       "      <td>1</td>\n",
       "    </tr>\n",
       "  </tbody>\n",
       "</table>\n",
       "</div>"
      ]
     },
     "execution_count": 86,
     "metadata": {},
     "output_type": "execute_result"
    }
   ],
   "execution_count": 86
  },
  {
   "metadata": {
    "ExecuteTime": {
     "end_time": "2024-08-03T11:55:41.721214Z",
     "start_time": "2024-08-03T11:55:41.696192Z"
    }
   },
   "cell_type": "code",
   "source": [
    "serialize_data(X_train, r\"E:\\01_Programming\\Py\\dataframe_transform\\modelling_data\\X_train.pkl\")"
   ],
   "id": "c75e225ea356ccda",
   "outputs": [],
   "execution_count": 97
  },
  {
   "metadata": {
    "ExecuteTime": {
     "end_time": "2024-08-03T11:47:51.836751Z",
     "start_time": "2024-08-03T11:47:51.832747Z"
    }
   },
   "cell_type": "code",
   "source": [
    "y_train.head()"
   ],
   "id": "e54bfc783bc47659",
   "outputs": [
    {
     "data": {
      "text/plain": [
       "119     0\n",
       "2836    0\n",
       "353     0\n",
       "2024    0\n",
       "48      0\n",
       "Name: outcome, dtype: int64"
      ]
     },
     "execution_count": 87,
     "metadata": {},
     "output_type": "execute_result"
    }
   ],
   "execution_count": 87
  },
  {
   "metadata": {
    "ExecuteTime": {
     "end_time": "2024-08-03T11:56:19.458193Z",
     "start_time": "2024-08-03T11:56:19.455191Z"
    }
   },
   "cell_type": "code",
   "source": [
    "serialize_data(y_train, r\"E:\\01_Programming\\Py\\dataframe_transform\\modelling_data\\y_train.pkl\")\n"
   ],
   "id": "6bc91a8bd4c6fcd6",
   "outputs": [],
   "execution_count": 98
  },
  {
   "metadata": {},
   "cell_type": "markdown",
   "source": [
    "#### Valid data validation"
   ],
   "id": "de73f30ae608e865"
  },
  {
   "metadata": {
    "ExecuteTime": {
     "end_time": "2024-08-03T11:48:23.993017Z",
     "start_time": "2024-08-03T11:48:23.976002Z"
    }
   },
   "cell_type": "code",
   "source": [
    "X_valid.describe()"
   ],
   "id": "3ef9fa4b80618223",
   "outputs": [
    {
     "data": {
      "text/plain": [
       "         bins_0_75    bins_1_75    bins_2_75     bins_3_75     bins_4_75  \\\n",
       "count   334.000000   334.000000   334.000000    334.000000    334.000000   \n",
       "mean    690.377246   262.601796   120.392216   2603.931138   1198.562874   \n",
       "std    1083.614695   764.427470   249.202738   3566.316570   3672.210383   \n",
       "min       0.000000     0.000000     0.000000      0.000000      0.000000   \n",
       "25%       0.000000     4.000000     4.000000      4.000000      2.250000   \n",
       "50%      91.000000    32.000000    22.000000    371.000000      6.500000   \n",
       "75%    1136.750000   175.000000   117.500000   3705.500000     25.000000   \n",
       "max    5467.000000  7585.000000  1764.000000  15017.000000  18244.000000   \n",
       "\n",
       "        bins_5_75   bins_6_75   bins_7_75        Exit  \n",
       "count  334.000000  334.000000   334.00000  334.000000  \n",
       "mean     3.568862    3.832335   166.38024    0.583832  \n",
       "std     14.746091   12.470098   515.73942    0.493662  \n",
       "min      0.000000    0.000000     0.00000    0.000000  \n",
       "25%      0.000000    0.000000     1.00000    0.000000  \n",
       "50%      1.000000    1.000000    13.00000    1.000000  \n",
       "75%      2.000000    2.000000    24.00000    1.000000  \n",
       "max    190.000000  136.000000  2525.00000    1.000000  "
      ],
      "text/html": [
       "<div>\n",
       "<style scoped>\n",
       "    .dataframe tbody tr th:only-of-type {\n",
       "        vertical-align: middle;\n",
       "    }\n",
       "\n",
       "    .dataframe tbody tr th {\n",
       "        vertical-align: top;\n",
       "    }\n",
       "\n",
       "    .dataframe thead th {\n",
       "        text-align: right;\n",
       "    }\n",
       "</style>\n",
       "<table border=\"1\" class=\"dataframe\">\n",
       "  <thead>\n",
       "    <tr style=\"text-align: right;\">\n",
       "      <th></th>\n",
       "      <th>bins_0_75</th>\n",
       "      <th>bins_1_75</th>\n",
       "      <th>bins_2_75</th>\n",
       "      <th>bins_3_75</th>\n",
       "      <th>bins_4_75</th>\n",
       "      <th>bins_5_75</th>\n",
       "      <th>bins_6_75</th>\n",
       "      <th>bins_7_75</th>\n",
       "      <th>Exit</th>\n",
       "    </tr>\n",
       "  </thead>\n",
       "  <tbody>\n",
       "    <tr>\n",
       "      <th>count</th>\n",
       "      <td>334.000000</td>\n",
       "      <td>334.000000</td>\n",
       "      <td>334.000000</td>\n",
       "      <td>334.000000</td>\n",
       "      <td>334.000000</td>\n",
       "      <td>334.000000</td>\n",
       "      <td>334.000000</td>\n",
       "      <td>334.00000</td>\n",
       "      <td>334.000000</td>\n",
       "    </tr>\n",
       "    <tr>\n",
       "      <th>mean</th>\n",
       "      <td>690.377246</td>\n",
       "      <td>262.601796</td>\n",
       "      <td>120.392216</td>\n",
       "      <td>2603.931138</td>\n",
       "      <td>1198.562874</td>\n",
       "      <td>3.568862</td>\n",
       "      <td>3.832335</td>\n",
       "      <td>166.38024</td>\n",
       "      <td>0.583832</td>\n",
       "    </tr>\n",
       "    <tr>\n",
       "      <th>std</th>\n",
       "      <td>1083.614695</td>\n",
       "      <td>764.427470</td>\n",
       "      <td>249.202738</td>\n",
       "      <td>3566.316570</td>\n",
       "      <td>3672.210383</td>\n",
       "      <td>14.746091</td>\n",
       "      <td>12.470098</td>\n",
       "      <td>515.73942</td>\n",
       "      <td>0.493662</td>\n",
       "    </tr>\n",
       "    <tr>\n",
       "      <th>min</th>\n",
       "      <td>0.000000</td>\n",
       "      <td>0.000000</td>\n",
       "      <td>0.000000</td>\n",
       "      <td>0.000000</td>\n",
       "      <td>0.000000</td>\n",
       "      <td>0.000000</td>\n",
       "      <td>0.000000</td>\n",
       "      <td>0.00000</td>\n",
       "      <td>0.000000</td>\n",
       "    </tr>\n",
       "    <tr>\n",
       "      <th>25%</th>\n",
       "      <td>0.000000</td>\n",
       "      <td>4.000000</td>\n",
       "      <td>4.000000</td>\n",
       "      <td>4.000000</td>\n",
       "      <td>2.250000</td>\n",
       "      <td>0.000000</td>\n",
       "      <td>0.000000</td>\n",
       "      <td>1.00000</td>\n",
       "      <td>0.000000</td>\n",
       "    </tr>\n",
       "    <tr>\n",
       "      <th>50%</th>\n",
       "      <td>91.000000</td>\n",
       "      <td>32.000000</td>\n",
       "      <td>22.000000</td>\n",
       "      <td>371.000000</td>\n",
       "      <td>6.500000</td>\n",
       "      <td>1.000000</td>\n",
       "      <td>1.000000</td>\n",
       "      <td>13.00000</td>\n",
       "      <td>1.000000</td>\n",
       "    </tr>\n",
       "    <tr>\n",
       "      <th>75%</th>\n",
       "      <td>1136.750000</td>\n",
       "      <td>175.000000</td>\n",
       "      <td>117.500000</td>\n",
       "      <td>3705.500000</td>\n",
       "      <td>25.000000</td>\n",
       "      <td>2.000000</td>\n",
       "      <td>2.000000</td>\n",
       "      <td>24.00000</td>\n",
       "      <td>1.000000</td>\n",
       "    </tr>\n",
       "    <tr>\n",
       "      <th>max</th>\n",
       "      <td>5467.000000</td>\n",
       "      <td>7585.000000</td>\n",
       "      <td>1764.000000</td>\n",
       "      <td>15017.000000</td>\n",
       "      <td>18244.000000</td>\n",
       "      <td>190.000000</td>\n",
       "      <td>136.000000</td>\n",
       "      <td>2525.00000</td>\n",
       "      <td>1.000000</td>\n",
       "    </tr>\n",
       "  </tbody>\n",
       "</table>\n",
       "</div>"
      ]
     },
     "execution_count": 88,
     "metadata": {},
     "output_type": "execute_result"
    }
   ],
   "execution_count": 88
  },
  {
   "metadata": {
    "ExecuteTime": {
     "end_time": "2024-08-03T11:48:47.416870Z",
     "start_time": "2024-08-03T11:48:47.398854Z"
    }
   },
   "cell_type": "code",
   "source": [
    "X_valid.head(5)"
   ],
   "id": "e8c1b78bf3388f61",
   "outputs": [
    {
     "data": {
      "text/plain": [
       "      bins_0_75  bins_1_75  bins_2_75  bins_3_75  bins_4_75  bins_5_75  \\\n",
       "3299     2349.0      107.0      320.0     2239.0       22.0        0.0   \n",
       "2494     1298.0      189.0      351.0     1684.0        4.0        0.0   \n",
       "2232     1816.0        9.0        2.0        3.0        2.0        0.0   \n",
       "2227        1.0        2.0       62.0     7249.0       93.0        2.0   \n",
       "1892     1168.0        9.0        2.0        4.0        3.0        1.0   \n",
       "\n",
       "      bins_6_75  bins_7_75  Exit  \n",
       "3299        0.0        0.0     1  \n",
       "2494        0.0        1.0     1  \n",
       "2232        1.0     2485.0     1  \n",
       "2227        1.0        3.0     1  \n",
       "1892        2.0     1543.0     1  "
      ],
      "text/html": [
       "<div>\n",
       "<style scoped>\n",
       "    .dataframe tbody tr th:only-of-type {\n",
       "        vertical-align: middle;\n",
       "    }\n",
       "\n",
       "    .dataframe tbody tr th {\n",
       "        vertical-align: top;\n",
       "    }\n",
       "\n",
       "    .dataframe thead th {\n",
       "        text-align: right;\n",
       "    }\n",
       "</style>\n",
       "<table border=\"1\" class=\"dataframe\">\n",
       "  <thead>\n",
       "    <tr style=\"text-align: right;\">\n",
       "      <th></th>\n",
       "      <th>bins_0_75</th>\n",
       "      <th>bins_1_75</th>\n",
       "      <th>bins_2_75</th>\n",
       "      <th>bins_3_75</th>\n",
       "      <th>bins_4_75</th>\n",
       "      <th>bins_5_75</th>\n",
       "      <th>bins_6_75</th>\n",
       "      <th>bins_7_75</th>\n",
       "      <th>Exit</th>\n",
       "    </tr>\n",
       "  </thead>\n",
       "  <tbody>\n",
       "    <tr>\n",
       "      <th>3299</th>\n",
       "      <td>2349.0</td>\n",
       "      <td>107.0</td>\n",
       "      <td>320.0</td>\n",
       "      <td>2239.0</td>\n",
       "      <td>22.0</td>\n",
       "      <td>0.0</td>\n",
       "      <td>0.0</td>\n",
       "      <td>0.0</td>\n",
       "      <td>1</td>\n",
       "    </tr>\n",
       "    <tr>\n",
       "      <th>2494</th>\n",
       "      <td>1298.0</td>\n",
       "      <td>189.0</td>\n",
       "      <td>351.0</td>\n",
       "      <td>1684.0</td>\n",
       "      <td>4.0</td>\n",
       "      <td>0.0</td>\n",
       "      <td>0.0</td>\n",
       "      <td>1.0</td>\n",
       "      <td>1</td>\n",
       "    </tr>\n",
       "    <tr>\n",
       "      <th>2232</th>\n",
       "      <td>1816.0</td>\n",
       "      <td>9.0</td>\n",
       "      <td>2.0</td>\n",
       "      <td>3.0</td>\n",
       "      <td>2.0</td>\n",
       "      <td>0.0</td>\n",
       "      <td>1.0</td>\n",
       "      <td>2485.0</td>\n",
       "      <td>1</td>\n",
       "    </tr>\n",
       "    <tr>\n",
       "      <th>2227</th>\n",
       "      <td>1.0</td>\n",
       "      <td>2.0</td>\n",
       "      <td>62.0</td>\n",
       "      <td>7249.0</td>\n",
       "      <td>93.0</td>\n",
       "      <td>2.0</td>\n",
       "      <td>1.0</td>\n",
       "      <td>3.0</td>\n",
       "      <td>1</td>\n",
       "    </tr>\n",
       "    <tr>\n",
       "      <th>1892</th>\n",
       "      <td>1168.0</td>\n",
       "      <td>9.0</td>\n",
       "      <td>2.0</td>\n",
       "      <td>4.0</td>\n",
       "      <td>3.0</td>\n",
       "      <td>1.0</td>\n",
       "      <td>2.0</td>\n",
       "      <td>1543.0</td>\n",
       "      <td>1</td>\n",
       "    </tr>\n",
       "  </tbody>\n",
       "</table>\n",
       "</div>"
      ]
     },
     "execution_count": 89,
     "metadata": {},
     "output_type": "execute_result"
    }
   ],
   "execution_count": 89
  },
  {
   "metadata": {
    "ExecuteTime": {
     "end_time": "2024-08-03T11:48:54.621231Z",
     "start_time": "2024-08-03T11:48:54.605216Z"
    }
   },
   "cell_type": "code",
   "source": [
    "y_valid.head(5)"
   ],
   "id": "a9a3ee81d090ded1",
   "outputs": [
    {
     "data": {
      "text/plain": [
       "3299    0\n",
       "2494    0\n",
       "2232    0\n",
       "2227    0\n",
       "1892    0\n",
       "Name: outcome, dtype: int64"
      ]
     },
     "execution_count": 90,
     "metadata": {},
     "output_type": "execute_result"
    }
   ],
   "execution_count": 90
  },
  {
   "metadata": {
    "ExecuteTime": {
     "end_time": "2024-08-03T11:56:59.520724Z",
     "start_time": "2024-08-03T11:56:59.506711Z"
    }
   },
   "cell_type": "code",
   "source": [
    "serialize_data(X_valid, r\"E:\\01_Programming\\Py\\dataframe_transform\\modelling_data\\X_valid.pkl\")\n",
    "serialize_data(y_valid, r\"E:\\01_Programming\\Py\\dataframe_transform\\modelling_data\\y_valid.pkl\")"
   ],
   "id": "d98e603fd504fc5e",
   "outputs": [],
   "execution_count": 99
  },
  {
   "metadata": {},
   "cell_type": "markdown",
   "source": [
    "#### Test data validation"
   ],
   "id": "20a00c92038fd6c5"
  },
  {
   "metadata": {
    "ExecuteTime": {
     "end_time": "2024-08-03T11:49:38.727935Z",
     "start_time": "2024-08-03T11:49:38.706916Z"
    }
   },
   "cell_type": "code",
   "source": [
    "X_test.describe()"
   ],
   "id": "1647fb0c4479a3de",
   "outputs": [
    {
     "data": {
      "text/plain": [
       "         bins_0_75    bins_1_75    bins_2_75     bins_3_75     bins_4_75  \\\n",
       "count   335.000000   335.000000   335.000000    335.000000    335.000000   \n",
       "mean    660.471642   285.376119   125.495522   3084.220896    713.788060   \n",
       "std    1124.778753   737.027727   278.825476   3990.858309   2853.301483   \n",
       "min       0.000000     0.000000     0.000000      0.000000      0.000000   \n",
       "25%       0.000000     2.000000     3.500000      4.000000      2.000000   \n",
       "50%      64.000000    19.000000    24.000000   1779.000000      5.000000   \n",
       "75%     931.500000   163.000000   120.000000   4726.500000     22.500000   \n",
       "max    5705.000000  5528.000000  3148.000000  15840.000000  16861.000000   \n",
       "\n",
       "        bins_5_75   bins_6_75    bins_7_75        Exit  \n",
       "count  335.000000  335.000000   335.000000  335.000000  \n",
       "mean     3.462687    2.638806   103.214925    0.641791  \n",
       "std     13.826695    7.751240   392.438776    0.480191  \n",
       "min      0.000000    0.000000     0.000000    0.000000  \n",
       "25%      0.000000    0.000000     1.000000    0.000000  \n",
       "50%      1.000000    1.000000    11.000000    1.000000  \n",
       "75%      2.000000    2.000000    22.000000    1.000000  \n",
       "max    155.000000   91.000000  2442.000000    1.000000  "
      ],
      "text/html": [
       "<div>\n",
       "<style scoped>\n",
       "    .dataframe tbody tr th:only-of-type {\n",
       "        vertical-align: middle;\n",
       "    }\n",
       "\n",
       "    .dataframe tbody tr th {\n",
       "        vertical-align: top;\n",
       "    }\n",
       "\n",
       "    .dataframe thead th {\n",
       "        text-align: right;\n",
       "    }\n",
       "</style>\n",
       "<table border=\"1\" class=\"dataframe\">\n",
       "  <thead>\n",
       "    <tr style=\"text-align: right;\">\n",
       "      <th></th>\n",
       "      <th>bins_0_75</th>\n",
       "      <th>bins_1_75</th>\n",
       "      <th>bins_2_75</th>\n",
       "      <th>bins_3_75</th>\n",
       "      <th>bins_4_75</th>\n",
       "      <th>bins_5_75</th>\n",
       "      <th>bins_6_75</th>\n",
       "      <th>bins_7_75</th>\n",
       "      <th>Exit</th>\n",
       "    </tr>\n",
       "  </thead>\n",
       "  <tbody>\n",
       "    <tr>\n",
       "      <th>count</th>\n",
       "      <td>335.000000</td>\n",
       "      <td>335.000000</td>\n",
       "      <td>335.000000</td>\n",
       "      <td>335.000000</td>\n",
       "      <td>335.000000</td>\n",
       "      <td>335.000000</td>\n",
       "      <td>335.000000</td>\n",
       "      <td>335.000000</td>\n",
       "      <td>335.000000</td>\n",
       "    </tr>\n",
       "    <tr>\n",
       "      <th>mean</th>\n",
       "      <td>660.471642</td>\n",
       "      <td>285.376119</td>\n",
       "      <td>125.495522</td>\n",
       "      <td>3084.220896</td>\n",
       "      <td>713.788060</td>\n",
       "      <td>3.462687</td>\n",
       "      <td>2.638806</td>\n",
       "      <td>103.214925</td>\n",
       "      <td>0.641791</td>\n",
       "    </tr>\n",
       "    <tr>\n",
       "      <th>std</th>\n",
       "      <td>1124.778753</td>\n",
       "      <td>737.027727</td>\n",
       "      <td>278.825476</td>\n",
       "      <td>3990.858309</td>\n",
       "      <td>2853.301483</td>\n",
       "      <td>13.826695</td>\n",
       "      <td>7.751240</td>\n",
       "      <td>392.438776</td>\n",
       "      <td>0.480191</td>\n",
       "    </tr>\n",
       "    <tr>\n",
       "      <th>min</th>\n",
       "      <td>0.000000</td>\n",
       "      <td>0.000000</td>\n",
       "      <td>0.000000</td>\n",
       "      <td>0.000000</td>\n",
       "      <td>0.000000</td>\n",
       "      <td>0.000000</td>\n",
       "      <td>0.000000</td>\n",
       "      <td>0.000000</td>\n",
       "      <td>0.000000</td>\n",
       "    </tr>\n",
       "    <tr>\n",
       "      <th>25%</th>\n",
       "      <td>0.000000</td>\n",
       "      <td>2.000000</td>\n",
       "      <td>3.500000</td>\n",
       "      <td>4.000000</td>\n",
       "      <td>2.000000</td>\n",
       "      <td>0.000000</td>\n",
       "      <td>0.000000</td>\n",
       "      <td>1.000000</td>\n",
       "      <td>0.000000</td>\n",
       "    </tr>\n",
       "    <tr>\n",
       "      <th>50%</th>\n",
       "      <td>64.000000</td>\n",
       "      <td>19.000000</td>\n",
       "      <td>24.000000</td>\n",
       "      <td>1779.000000</td>\n",
       "      <td>5.000000</td>\n",
       "      <td>1.000000</td>\n",
       "      <td>1.000000</td>\n",
       "      <td>11.000000</td>\n",
       "      <td>1.000000</td>\n",
       "    </tr>\n",
       "    <tr>\n",
       "      <th>75%</th>\n",
       "      <td>931.500000</td>\n",
       "      <td>163.000000</td>\n",
       "      <td>120.000000</td>\n",
       "      <td>4726.500000</td>\n",
       "      <td>22.500000</td>\n",
       "      <td>2.000000</td>\n",
       "      <td>2.000000</td>\n",
       "      <td>22.000000</td>\n",
       "      <td>1.000000</td>\n",
       "    </tr>\n",
       "    <tr>\n",
       "      <th>max</th>\n",
       "      <td>5705.000000</td>\n",
       "      <td>5528.000000</td>\n",
       "      <td>3148.000000</td>\n",
       "      <td>15840.000000</td>\n",
       "      <td>16861.000000</td>\n",
       "      <td>155.000000</td>\n",
       "      <td>91.000000</td>\n",
       "      <td>2442.000000</td>\n",
       "      <td>1.000000</td>\n",
       "    </tr>\n",
       "  </tbody>\n",
       "</table>\n",
       "</div>"
      ]
     },
     "execution_count": 91,
     "metadata": {},
     "output_type": "execute_result"
    }
   ],
   "execution_count": 91
  },
  {
   "metadata": {
    "ExecuteTime": {
     "end_time": "2024-08-03T11:50:11.875128Z",
     "start_time": "2024-08-03T11:50:11.855112Z"
    }
   },
   "cell_type": "code",
   "source": [
    "X_test.head(5)"
   ],
   "id": "e20f878720faf97",
   "outputs": [
    {
     "data": {
      "text/plain": [
       "      bins_0_75  bins_1_75  bins_2_75  bins_3_75  bins_4_75  bins_5_75  \\\n",
       "3425        0.0        1.0      264.0     3368.0        5.0        0.0   \n",
       "1948     1119.0        7.0        3.0        4.0        4.0        2.0   \n",
       "844        64.0     1786.0        4.0        5.0        2.0        1.0   \n",
       "86          0.0      135.0      521.0     3921.0        8.0        0.0   \n",
       "335       218.0       22.0        1.0        3.0        3.0        1.0   \n",
       "\n",
       "      bins_6_75  bins_7_75  Exit  \n",
       "3425        0.0        0.0     0  \n",
       "1948        2.0     1600.0     1  \n",
       "844         1.0       20.0     1  \n",
       "86          1.0        1.0     0  \n",
       "335         1.0       21.0     1  "
      ],
      "text/html": [
       "<div>\n",
       "<style scoped>\n",
       "    .dataframe tbody tr th:only-of-type {\n",
       "        vertical-align: middle;\n",
       "    }\n",
       "\n",
       "    .dataframe tbody tr th {\n",
       "        vertical-align: top;\n",
       "    }\n",
       "\n",
       "    .dataframe thead th {\n",
       "        text-align: right;\n",
       "    }\n",
       "</style>\n",
       "<table border=\"1\" class=\"dataframe\">\n",
       "  <thead>\n",
       "    <tr style=\"text-align: right;\">\n",
       "      <th></th>\n",
       "      <th>bins_0_75</th>\n",
       "      <th>bins_1_75</th>\n",
       "      <th>bins_2_75</th>\n",
       "      <th>bins_3_75</th>\n",
       "      <th>bins_4_75</th>\n",
       "      <th>bins_5_75</th>\n",
       "      <th>bins_6_75</th>\n",
       "      <th>bins_7_75</th>\n",
       "      <th>Exit</th>\n",
       "    </tr>\n",
       "  </thead>\n",
       "  <tbody>\n",
       "    <tr>\n",
       "      <th>3425</th>\n",
       "      <td>0.0</td>\n",
       "      <td>1.0</td>\n",
       "      <td>264.0</td>\n",
       "      <td>3368.0</td>\n",
       "      <td>5.0</td>\n",
       "      <td>0.0</td>\n",
       "      <td>0.0</td>\n",
       "      <td>0.0</td>\n",
       "      <td>0</td>\n",
       "    </tr>\n",
       "    <tr>\n",
       "      <th>1948</th>\n",
       "      <td>1119.0</td>\n",
       "      <td>7.0</td>\n",
       "      <td>3.0</td>\n",
       "      <td>4.0</td>\n",
       "      <td>4.0</td>\n",
       "      <td>2.0</td>\n",
       "      <td>2.0</td>\n",
       "      <td>1600.0</td>\n",
       "      <td>1</td>\n",
       "    </tr>\n",
       "    <tr>\n",
       "      <th>844</th>\n",
       "      <td>64.0</td>\n",
       "      <td>1786.0</td>\n",
       "      <td>4.0</td>\n",
       "      <td>5.0</td>\n",
       "      <td>2.0</td>\n",
       "      <td>1.0</td>\n",
       "      <td>1.0</td>\n",
       "      <td>20.0</td>\n",
       "      <td>1</td>\n",
       "    </tr>\n",
       "    <tr>\n",
       "      <th>86</th>\n",
       "      <td>0.0</td>\n",
       "      <td>135.0</td>\n",
       "      <td>521.0</td>\n",
       "      <td>3921.0</td>\n",
       "      <td>8.0</td>\n",
       "      <td>0.0</td>\n",
       "      <td>1.0</td>\n",
       "      <td>1.0</td>\n",
       "      <td>0</td>\n",
       "    </tr>\n",
       "    <tr>\n",
       "      <th>335</th>\n",
       "      <td>218.0</td>\n",
       "      <td>22.0</td>\n",
       "      <td>1.0</td>\n",
       "      <td>3.0</td>\n",
       "      <td>3.0</td>\n",
       "      <td>1.0</td>\n",
       "      <td>1.0</td>\n",
       "      <td>21.0</td>\n",
       "      <td>1</td>\n",
       "    </tr>\n",
       "  </tbody>\n",
       "</table>\n",
       "</div>"
      ]
     },
     "execution_count": 92,
     "metadata": {},
     "output_type": "execute_result"
    }
   ],
   "execution_count": 92
  },
  {
   "metadata": {
    "ExecuteTime": {
     "end_time": "2024-08-03T11:50:19.845661Z",
     "start_time": "2024-08-03T11:50:19.826645Z"
    }
   },
   "cell_type": "code",
   "source": [
    "y_test.head(5)"
   ],
   "id": "5c62e7ffbb0c3724",
   "outputs": [
    {
     "data": {
      "text/plain": [
       "3425    1\n",
       "1948    0\n",
       "844     0\n",
       "86      1\n",
       "335     0\n",
       "Name: outcome, dtype: int64"
      ]
     },
     "execution_count": 93,
     "metadata": {},
     "output_type": "execute_result"
    }
   ],
   "execution_count": 93
  },
  {
   "metadata": {
    "ExecuteTime": {
     "end_time": "2024-08-03T11:57:34.374919Z",
     "start_time": "2024-08-03T11:57:34.356737Z"
    }
   },
   "cell_type": "code",
   "source": [
    "serialize_data(X_test, r\"E:\\01_Programming\\Py\\dataframe_transform\\modelling_data\\X_test.pkl\")\n",
    "serialize_data(y_test, r\"E:\\01_Programming\\Py\\dataframe_transform\\modelling_data\\y_test.pkl\")"
   ],
   "id": "c0fd4007f7220c9a",
   "outputs": [],
   "execution_count": 100
  },
  {
   "metadata": {},
   "cell_type": "markdown",
   "source": [
    "#### Data Scaling"
   ],
   "id": "2afbc37564c67613"
  },
  {
   "metadata": {
    "ExecuteTime": {
     "end_time": "2024-08-03T12:06:11.179319Z",
     "start_time": "2024-08-03T12:06:11.173314Z"
    }
   },
   "cell_type": "code",
   "source": [
    "scaler = fit_scaler(X_train)\n",
    "\n",
    "X_train_scaled = transform_scaler(X_train, scaler)\n",
    "X_valid_scaled = transform_scaler(X_valid, scaler)\n",
    "X_test_scaled = transform_scaler(X_test, scaler)"
   ],
   "id": "258334518a2dccd3",
   "outputs": [],
   "execution_count": 101
  },
  {
   "metadata": {
    "ExecuteTime": {
     "end_time": "2024-08-03T12:06:26.908532Z",
     "start_time": "2024-08-03T12:06:26.886536Z"
    }
   },
   "cell_type": "code",
   "source": [
    "X_train_scaled.describe().round(2)"
   ],
   "id": "d46ed67d51f37f56",
   "outputs": [
    {
     "data": {
      "text/plain": [
       "       bins_0_75  bins_1_75  bins_2_75  bins_3_75  bins_4_75  bins_5_75  \\\n",
       "count    2676.00    2676.00    2676.00    2676.00    2676.00    2676.00   \n",
       "mean        0.00      -0.00       0.00      -0.00       0.00       0.00   \n",
       "std         1.00       1.00       1.00       1.00       1.00       1.00   \n",
       "min        -0.60      -0.41      -0.42      -0.77      -0.29      -0.24   \n",
       "25%        -0.60      -0.40      -0.41      -0.77      -0.29      -0.24   \n",
       "50%        -0.54      -0.35      -0.35      -0.33      -0.29      -0.17   \n",
       "75%         0.32      -0.11       0.00       0.35      -0.28      -0.10   \n",
       "max         6.08      11.46      12.15       3.84       5.62      17.62   \n",
       "\n",
       "       bins_6_75  bins_7_75     Exit  \n",
       "count    2676.00    2676.00  2676.00  \n",
       "mean       -0.00       0.00    -0.00  \n",
       "std         1.00       1.00     1.00  \n",
       "min        -0.29      -0.28    -1.25  \n",
       "25%        -0.29      -0.28    -1.25  \n",
       "50%        -0.20      -0.26     0.80  \n",
       "75%        -0.11      -0.23     0.80  \n",
       "max        19.88       6.59     0.80  "
      ],
      "text/html": [
       "<div>\n",
       "<style scoped>\n",
       "    .dataframe tbody tr th:only-of-type {\n",
       "        vertical-align: middle;\n",
       "    }\n",
       "\n",
       "    .dataframe tbody tr th {\n",
       "        vertical-align: top;\n",
       "    }\n",
       "\n",
       "    .dataframe thead th {\n",
       "        text-align: right;\n",
       "    }\n",
       "</style>\n",
       "<table border=\"1\" class=\"dataframe\">\n",
       "  <thead>\n",
       "    <tr style=\"text-align: right;\">\n",
       "      <th></th>\n",
       "      <th>bins_0_75</th>\n",
       "      <th>bins_1_75</th>\n",
       "      <th>bins_2_75</th>\n",
       "      <th>bins_3_75</th>\n",
       "      <th>bins_4_75</th>\n",
       "      <th>bins_5_75</th>\n",
       "      <th>bins_6_75</th>\n",
       "      <th>bins_7_75</th>\n",
       "      <th>Exit</th>\n",
       "    </tr>\n",
       "  </thead>\n",
       "  <tbody>\n",
       "    <tr>\n",
       "      <th>count</th>\n",
       "      <td>2676.00</td>\n",
       "      <td>2676.00</td>\n",
       "      <td>2676.00</td>\n",
       "      <td>2676.00</td>\n",
       "      <td>2676.00</td>\n",
       "      <td>2676.00</td>\n",
       "      <td>2676.00</td>\n",
       "      <td>2676.00</td>\n",
       "      <td>2676.00</td>\n",
       "    </tr>\n",
       "    <tr>\n",
       "      <th>mean</th>\n",
       "      <td>0.00</td>\n",
       "      <td>-0.00</td>\n",
       "      <td>0.00</td>\n",
       "      <td>-0.00</td>\n",
       "      <td>0.00</td>\n",
       "      <td>0.00</td>\n",
       "      <td>-0.00</td>\n",
       "      <td>0.00</td>\n",
       "      <td>-0.00</td>\n",
       "    </tr>\n",
       "    <tr>\n",
       "      <th>std</th>\n",
       "      <td>1.00</td>\n",
       "      <td>1.00</td>\n",
       "      <td>1.00</td>\n",
       "      <td>1.00</td>\n",
       "      <td>1.00</td>\n",
       "      <td>1.00</td>\n",
       "      <td>1.00</td>\n",
       "      <td>1.00</td>\n",
       "      <td>1.00</td>\n",
       "    </tr>\n",
       "    <tr>\n",
       "      <th>min</th>\n",
       "      <td>-0.60</td>\n",
       "      <td>-0.41</td>\n",
       "      <td>-0.42</td>\n",
       "      <td>-0.77</td>\n",
       "      <td>-0.29</td>\n",
       "      <td>-0.24</td>\n",
       "      <td>-0.29</td>\n",
       "      <td>-0.28</td>\n",
       "      <td>-1.25</td>\n",
       "    </tr>\n",
       "    <tr>\n",
       "      <th>25%</th>\n",
       "      <td>-0.60</td>\n",
       "      <td>-0.40</td>\n",
       "      <td>-0.41</td>\n",
       "      <td>-0.77</td>\n",
       "      <td>-0.29</td>\n",
       "      <td>-0.24</td>\n",
       "      <td>-0.29</td>\n",
       "      <td>-0.28</td>\n",
       "      <td>-1.25</td>\n",
       "    </tr>\n",
       "    <tr>\n",
       "      <th>50%</th>\n",
       "      <td>-0.54</td>\n",
       "      <td>-0.35</td>\n",
       "      <td>-0.35</td>\n",
       "      <td>-0.33</td>\n",
       "      <td>-0.29</td>\n",
       "      <td>-0.17</td>\n",
       "      <td>-0.20</td>\n",
       "      <td>-0.26</td>\n",
       "      <td>0.80</td>\n",
       "    </tr>\n",
       "    <tr>\n",
       "      <th>75%</th>\n",
       "      <td>0.32</td>\n",
       "      <td>-0.11</td>\n",
       "      <td>0.00</td>\n",
       "      <td>0.35</td>\n",
       "      <td>-0.28</td>\n",
       "      <td>-0.10</td>\n",
       "      <td>-0.11</td>\n",
       "      <td>-0.23</td>\n",
       "      <td>0.80</td>\n",
       "    </tr>\n",
       "    <tr>\n",
       "      <th>max</th>\n",
       "      <td>6.08</td>\n",
       "      <td>11.46</td>\n",
       "      <td>12.15</td>\n",
       "      <td>3.84</td>\n",
       "      <td>5.62</td>\n",
       "      <td>17.62</td>\n",
       "      <td>19.88</td>\n",
       "      <td>6.59</td>\n",
       "      <td>0.80</td>\n",
       "    </tr>\n",
       "  </tbody>\n",
       "</table>\n",
       "</div>"
      ]
     },
     "execution_count": 103,
     "metadata": {},
     "output_type": "execute_result"
    }
   ],
   "execution_count": 103
  },
  {
   "metadata": {
    "ExecuteTime": {
     "end_time": "2024-08-03T12:06:41.264603Z",
     "start_time": "2024-08-03T12:06:41.233575Z"
    }
   },
   "cell_type": "code",
   "source": [
    "X_valid_scaled.describe().round(2)\n"
   ],
   "id": "6b927e1e56a0ca36",
   "outputs": [
    {
     "data": {
      "text/plain": [
       "       bins_0_75  bins_1_75  bins_2_75  bins_3_75  bins_4_75  bins_5_75  \\\n",
       "count     334.00     334.00     334.00     334.00     334.00     334.00   \n",
       "mean        0.01      -0.01      -0.11      -0.05       0.10       0.02   \n",
       "std         0.96       1.17       0.64       0.98       1.18       1.06   \n",
       "min        -0.60      -0.41      -0.42      -0.77      -0.29      -0.24   \n",
       "25%        -0.60      -0.40      -0.41      -0.77      -0.29      -0.24   \n",
       "50%        -0.52      -0.36      -0.36      -0.67      -0.29      -0.17   \n",
       "75%         0.41      -0.14      -0.12       0.25      -0.28      -0.10   \n",
       "max         4.26      11.18       4.10       3.37       5.56      13.44   \n",
       "\n",
       "       bins_6_75  bins_7_75    Exit  \n",
       "count     334.00     334.00  334.00  \n",
       "mean        0.05       0.09   -0.05  \n",
       "std         1.11       1.16    1.01  \n",
       "min        -0.29      -0.28   -1.25  \n",
       "25%        -0.29      -0.28   -1.25  \n",
       "50%        -0.20      -0.26    0.80  \n",
       "75%        -0.11      -0.23    0.80  \n",
       "max        11.85       5.41    0.80  "
      ],
      "text/html": [
       "<div>\n",
       "<style scoped>\n",
       "    .dataframe tbody tr th:only-of-type {\n",
       "        vertical-align: middle;\n",
       "    }\n",
       "\n",
       "    .dataframe tbody tr th {\n",
       "        vertical-align: top;\n",
       "    }\n",
       "\n",
       "    .dataframe thead th {\n",
       "        text-align: right;\n",
       "    }\n",
       "</style>\n",
       "<table border=\"1\" class=\"dataframe\">\n",
       "  <thead>\n",
       "    <tr style=\"text-align: right;\">\n",
       "      <th></th>\n",
       "      <th>bins_0_75</th>\n",
       "      <th>bins_1_75</th>\n",
       "      <th>bins_2_75</th>\n",
       "      <th>bins_3_75</th>\n",
       "      <th>bins_4_75</th>\n",
       "      <th>bins_5_75</th>\n",
       "      <th>bins_6_75</th>\n",
       "      <th>bins_7_75</th>\n",
       "      <th>Exit</th>\n",
       "    </tr>\n",
       "  </thead>\n",
       "  <tbody>\n",
       "    <tr>\n",
       "      <th>count</th>\n",
       "      <td>334.00</td>\n",
       "      <td>334.00</td>\n",
       "      <td>334.00</td>\n",
       "      <td>334.00</td>\n",
       "      <td>334.00</td>\n",
       "      <td>334.00</td>\n",
       "      <td>334.00</td>\n",
       "      <td>334.00</td>\n",
       "      <td>334.00</td>\n",
       "    </tr>\n",
       "    <tr>\n",
       "      <th>mean</th>\n",
       "      <td>0.01</td>\n",
       "      <td>-0.01</td>\n",
       "      <td>-0.11</td>\n",
       "      <td>-0.05</td>\n",
       "      <td>0.10</td>\n",
       "      <td>0.02</td>\n",
       "      <td>0.05</td>\n",
       "      <td>0.09</td>\n",
       "      <td>-0.05</td>\n",
       "    </tr>\n",
       "    <tr>\n",
       "      <th>std</th>\n",
       "      <td>0.96</td>\n",
       "      <td>1.17</td>\n",
       "      <td>0.64</td>\n",
       "      <td>0.98</td>\n",
       "      <td>1.18</td>\n",
       "      <td>1.06</td>\n",
       "      <td>1.11</td>\n",
       "      <td>1.16</td>\n",
       "      <td>1.01</td>\n",
       "    </tr>\n",
       "    <tr>\n",
       "      <th>min</th>\n",
       "      <td>-0.60</td>\n",
       "      <td>-0.41</td>\n",
       "      <td>-0.42</td>\n",
       "      <td>-0.77</td>\n",
       "      <td>-0.29</td>\n",
       "      <td>-0.24</td>\n",
       "      <td>-0.29</td>\n",
       "      <td>-0.28</td>\n",
       "      <td>-1.25</td>\n",
       "    </tr>\n",
       "    <tr>\n",
       "      <th>25%</th>\n",
       "      <td>-0.60</td>\n",
       "      <td>-0.40</td>\n",
       "      <td>-0.41</td>\n",
       "      <td>-0.77</td>\n",
       "      <td>-0.29</td>\n",
       "      <td>-0.24</td>\n",
       "      <td>-0.29</td>\n",
       "      <td>-0.28</td>\n",
       "      <td>-1.25</td>\n",
       "    </tr>\n",
       "    <tr>\n",
       "      <th>50%</th>\n",
       "      <td>-0.52</td>\n",
       "      <td>-0.36</td>\n",
       "      <td>-0.36</td>\n",
       "      <td>-0.67</td>\n",
       "      <td>-0.29</td>\n",
       "      <td>-0.17</td>\n",
       "      <td>-0.20</td>\n",
       "      <td>-0.26</td>\n",
       "      <td>0.80</td>\n",
       "    </tr>\n",
       "    <tr>\n",
       "      <th>75%</th>\n",
       "      <td>0.41</td>\n",
       "      <td>-0.14</td>\n",
       "      <td>-0.12</td>\n",
       "      <td>0.25</td>\n",
       "      <td>-0.28</td>\n",
       "      <td>-0.10</td>\n",
       "      <td>-0.11</td>\n",
       "      <td>-0.23</td>\n",
       "      <td>0.80</td>\n",
       "    </tr>\n",
       "    <tr>\n",
       "      <th>max</th>\n",
       "      <td>4.26</td>\n",
       "      <td>11.18</td>\n",
       "      <td>4.10</td>\n",
       "      <td>3.37</td>\n",
       "      <td>5.56</td>\n",
       "      <td>13.44</td>\n",
       "      <td>11.85</td>\n",
       "      <td>5.41</td>\n",
       "      <td>0.80</td>\n",
       "    </tr>\n",
       "  </tbody>\n",
       "</table>\n",
       "</div>"
      ]
     },
     "execution_count": 104,
     "metadata": {},
     "output_type": "execute_result"
    }
   ],
   "execution_count": 104
  },
  {
   "metadata": {
    "ExecuteTime": {
     "end_time": "2024-08-03T12:06:59.952030Z",
     "start_time": "2024-08-03T12:06:59.931010Z"
    }
   },
   "cell_type": "code",
   "source": [
    "X_test_scaled.describe().round(2)"
   ],
   "id": "68d9246af7ccd9df",
   "outputs": [
    {
     "data": {
      "text/plain": [
       "       bins_0_75  bins_1_75  bins_2_75  bins_3_75  bins_4_75  bins_5_75  \\\n",
       "count     335.00     335.00     335.00     335.00     335.00     335.00   \n",
       "mean       -0.01       0.03      -0.10       0.08      -0.06       0.01   \n",
       "std         1.00       1.13       0.71       1.10       0.92       1.00   \n",
       "min        -0.60      -0.41      -0.42      -0.77      -0.29      -0.24   \n",
       "25%        -0.60      -0.40      -0.41      -0.77      -0.29      -0.24   \n",
       "50%        -0.54      -0.38      -0.36      -0.28      -0.29      -0.17   \n",
       "75%         0.23      -0.16      -0.11       0.53      -0.28      -0.10   \n",
       "max         4.48       8.04       7.64       3.60       5.12      10.92   \n",
       "\n",
       "       bins_6_75  bins_7_75    Exit  \n",
       "count     335.00     335.00  335.00  \n",
       "mean       -0.05      -0.05    0.06  \n",
       "std         0.69       0.89    0.98  \n",
       "min        -0.29      -0.28   -1.25  \n",
       "25%        -0.29      -0.28   -1.25  \n",
       "50%        -0.20      -0.26    0.80  \n",
       "75%        -0.11      -0.23    0.80  \n",
       "max         7.83       5.23    0.80  "
      ],
      "text/html": [
       "<div>\n",
       "<style scoped>\n",
       "    .dataframe tbody tr th:only-of-type {\n",
       "        vertical-align: middle;\n",
       "    }\n",
       "\n",
       "    .dataframe tbody tr th {\n",
       "        vertical-align: top;\n",
       "    }\n",
       "\n",
       "    .dataframe thead th {\n",
       "        text-align: right;\n",
       "    }\n",
       "</style>\n",
       "<table border=\"1\" class=\"dataframe\">\n",
       "  <thead>\n",
       "    <tr style=\"text-align: right;\">\n",
       "      <th></th>\n",
       "      <th>bins_0_75</th>\n",
       "      <th>bins_1_75</th>\n",
       "      <th>bins_2_75</th>\n",
       "      <th>bins_3_75</th>\n",
       "      <th>bins_4_75</th>\n",
       "      <th>bins_5_75</th>\n",
       "      <th>bins_6_75</th>\n",
       "      <th>bins_7_75</th>\n",
       "      <th>Exit</th>\n",
       "    </tr>\n",
       "  </thead>\n",
       "  <tbody>\n",
       "    <tr>\n",
       "      <th>count</th>\n",
       "      <td>335.00</td>\n",
       "      <td>335.00</td>\n",
       "      <td>335.00</td>\n",
       "      <td>335.00</td>\n",
       "      <td>335.00</td>\n",
       "      <td>335.00</td>\n",
       "      <td>335.00</td>\n",
       "      <td>335.00</td>\n",
       "      <td>335.00</td>\n",
       "    </tr>\n",
       "    <tr>\n",
       "      <th>mean</th>\n",
       "      <td>-0.01</td>\n",
       "      <td>0.03</td>\n",
       "      <td>-0.10</td>\n",
       "      <td>0.08</td>\n",
       "      <td>-0.06</td>\n",
       "      <td>0.01</td>\n",
       "      <td>-0.05</td>\n",
       "      <td>-0.05</td>\n",
       "      <td>0.06</td>\n",
       "    </tr>\n",
       "    <tr>\n",
       "      <th>std</th>\n",
       "      <td>1.00</td>\n",
       "      <td>1.13</td>\n",
       "      <td>0.71</td>\n",
       "      <td>1.10</td>\n",
       "      <td>0.92</td>\n",
       "      <td>1.00</td>\n",
       "      <td>0.69</td>\n",
       "      <td>0.89</td>\n",
       "      <td>0.98</td>\n",
       "    </tr>\n",
       "    <tr>\n",
       "      <th>min</th>\n",
       "      <td>-0.60</td>\n",
       "      <td>-0.41</td>\n",
       "      <td>-0.42</td>\n",
       "      <td>-0.77</td>\n",
       "      <td>-0.29</td>\n",
       "      <td>-0.24</td>\n",
       "      <td>-0.29</td>\n",
       "      <td>-0.28</td>\n",
       "      <td>-1.25</td>\n",
       "    </tr>\n",
       "    <tr>\n",
       "      <th>25%</th>\n",
       "      <td>-0.60</td>\n",
       "      <td>-0.40</td>\n",
       "      <td>-0.41</td>\n",
       "      <td>-0.77</td>\n",
       "      <td>-0.29</td>\n",
       "      <td>-0.24</td>\n",
       "      <td>-0.29</td>\n",
       "      <td>-0.28</td>\n",
       "      <td>-1.25</td>\n",
       "    </tr>\n",
       "    <tr>\n",
       "      <th>50%</th>\n",
       "      <td>-0.54</td>\n",
       "      <td>-0.38</td>\n",
       "      <td>-0.36</td>\n",
       "      <td>-0.28</td>\n",
       "      <td>-0.29</td>\n",
       "      <td>-0.17</td>\n",
       "      <td>-0.20</td>\n",
       "      <td>-0.26</td>\n",
       "      <td>0.80</td>\n",
       "    </tr>\n",
       "    <tr>\n",
       "      <th>75%</th>\n",
       "      <td>0.23</td>\n",
       "      <td>-0.16</td>\n",
       "      <td>-0.11</td>\n",
       "      <td>0.53</td>\n",
       "      <td>-0.28</td>\n",
       "      <td>-0.10</td>\n",
       "      <td>-0.11</td>\n",
       "      <td>-0.23</td>\n",
       "      <td>0.80</td>\n",
       "    </tr>\n",
       "    <tr>\n",
       "      <th>max</th>\n",
       "      <td>4.48</td>\n",
       "      <td>8.04</td>\n",
       "      <td>7.64</td>\n",
       "      <td>3.60</td>\n",
       "      <td>5.12</td>\n",
       "      <td>10.92</td>\n",
       "      <td>7.83</td>\n",
       "      <td>5.23</td>\n",
       "      <td>0.80</td>\n",
       "    </tr>\n",
       "  </tbody>\n",
       "</table>\n",
       "</div>"
      ]
     },
     "execution_count": 105,
     "metadata": {},
     "output_type": "execute_result"
    }
   ],
   "execution_count": 105
  },
  {
   "metadata": {},
   "cell_type": "markdown",
   "source": [
    "Index validation"
   ],
   "id": "2e6ded3300b3e60b"
  },
  {
   "metadata": {
    "ExecuteTime": {
     "end_time": "2024-08-03T12:11:42.635590Z",
     "start_time": "2024-08-03T12:11:42.620501Z"
    }
   },
   "cell_type": "code",
   "source": [
    "print(X_train_scaled.head(5).index.to_list()) \n",
    "serialize_data(X_train_scaled, r\"E:\\01_Programming\\Py\\dataframe_transform\\modelling_data\\scaled\\X_train_scaled.pkl\")\n",
    "\n",
    "print(y_train.head(5).index.to_list())"
   ],
   "id": "a836d7aa00f8b3ff",
   "outputs": [
    {
     "name": "stdout",
     "output_type": "stream",
     "text": [
      "[119, 2836, 353, 2024, 48]\n",
      "[119, 2836, 353, 2024, 48]\n"
     ]
    }
   ],
   "execution_count": 110
  },
  {
   "metadata": {
    "ExecuteTime": {
     "end_time": "2024-08-03T12:12:16.373596Z",
     "start_time": "2024-08-03T12:12:16.364588Z"
    }
   },
   "cell_type": "code",
   "source": [
    "print(X_valid_scaled.head(5).index.to_list())\n",
    "serialize_data(X_valid_scaled, r\"E:\\01_Programming\\Py\\dataframe_transform\\modelling_data\\scaled\\X_valid_scaled.pkl\")\n",
    "\n",
    "print(y_valid.head(5).index.to_list())"
   ],
   "id": "40bed09087d0578b",
   "outputs": [
    {
     "name": "stdout",
     "output_type": "stream",
     "text": [
      "[3299, 2494, 2232, 2227, 1892]\n",
      "[3299, 2494, 2232, 2227, 1892]\n"
     ]
    }
   ],
   "execution_count": 111
  },
  {
   "metadata": {
    "ExecuteTime": {
     "end_time": "2024-08-03T12:12:32.594422Z",
     "start_time": "2024-08-03T12:12:32.587416Z"
    }
   },
   "cell_type": "code",
   "source": [
    "print(X_test_scaled.head(5).index.to_list())\n",
    "serialize_data(X_test_scaled, r\"E:\\01_Programming\\Py\\dataframe_transform\\modelling_data\\scaled\\X_test_scaled.pkl\")\n",
    "\n",
    "print(y_test.head(5).index.to_list())"
   ],
   "id": "ebab091f1d5131f8",
   "outputs": [
    {
     "name": "stdout",
     "output_type": "stream",
     "text": [
      "[3425, 1948, 844, 86, 335]\n",
      "[3425, 1948, 844, 86, 335]\n"
     ]
    }
   ],
   "execution_count": 112
  },
  {
   "metadata": {},
   "cell_type": "markdown",
   "source": [
    "## OpFlow-Bins Only"
   ],
   "id": "9f821339c5ba9317"
  },
  {
   "metadata": {},
   "cell_type": "markdown",
   "source": [
    "Train set"
   ],
   "id": "afd503ae7dfeeaac"
  },
  {
   "metadata": {
    "ExecuteTime": {
     "end_time": "2024-08-03T12:15:06.529171Z",
     "start_time": "2024-08-03T12:15:06.517160Z"
    }
   },
   "cell_type": "code",
   "source": [
    "X_train_scaled_bin = X_train_scaled"
   ],
   "id": "32bb4cc1bd18d7e5",
   "outputs": [],
   "execution_count": 115
  },
  {
   "metadata": {
    "ExecuteTime": {
     "end_time": "2024-08-03T12:15:11.565342Z",
     "start_time": "2024-08-03T12:15:11.554333Z"
    }
   },
   "cell_type": "code",
   "source": [
    "X_train_scaled_bin"
   ],
   "id": "5881bf06efa02874",
   "outputs": [
    {
     "data": {
      "text/plain": [
       "      bins_0_75  bins_1_75  bins_2_75  bins_3_75  bins_4_75  bins_5_75  \\\n",
       "119   -0.601386  -0.406106  -0.404604   2.947547  -0.285579  -0.168789   \n",
       "2836   1.450577  -0.132776   0.452833  -0.183387  -0.286862  -0.240816   \n",
       "353   -0.475030  -0.244246  -0.412282  -0.771109  -0.286862  -0.168789   \n",
       "2024   0.205696  -0.395417  -0.412282  -0.770557  -0.286862  -0.168789   \n",
       "48    -0.375368  -0.364878  -0.409723  -0.770833  -0.287504  -0.240816   \n",
       "...         ...        ...        ...        ...        ...        ...   \n",
       "2293   0.386332   0.826169   3.874900  -0.771385  -0.287504  -0.240816   \n",
       "3474  -0.601386  -0.406106  -0.379009   0.786494  -0.283975  -0.240816   \n",
       "1901  -0.600497  -0.404579  -0.340616   1.675252  -0.272427  -0.096762   \n",
       "1252   2.009395  -0.328230  -0.412282  -0.770557  -0.287504  -0.240816   \n",
       "1478   0.631038  -0.392363  -0.412282  -0.770833  -0.287504  -0.240816   \n",
       "\n",
       "      bins_6_75  bins_7_75  \n",
       "119   -0.200717  -0.284471  \n",
       "2836  -0.289968  -0.279956  \n",
       "353   -0.200717  -0.248355  \n",
       "2024  -0.111465   2.749219  \n",
       "48    -0.200717  -0.234812  \n",
       "...         ...        ...  \n",
       "2293  -0.200717  -0.257384  \n",
       "3474  -0.289968  -0.279956  \n",
       "1901  -0.111465  -0.279956  \n",
       "1252  -0.289968  -0.239327  \n",
       "1478   1.048809   4.376667  \n",
       "\n",
       "[2676 rows x 8 columns]"
      ],
      "text/html": [
       "<div>\n",
       "<style scoped>\n",
       "    .dataframe tbody tr th:only-of-type {\n",
       "        vertical-align: middle;\n",
       "    }\n",
       "\n",
       "    .dataframe tbody tr th {\n",
       "        vertical-align: top;\n",
       "    }\n",
       "\n",
       "    .dataframe thead th {\n",
       "        text-align: right;\n",
       "    }\n",
       "</style>\n",
       "<table border=\"1\" class=\"dataframe\">\n",
       "  <thead>\n",
       "    <tr style=\"text-align: right;\">\n",
       "      <th></th>\n",
       "      <th>bins_0_75</th>\n",
       "      <th>bins_1_75</th>\n",
       "      <th>bins_2_75</th>\n",
       "      <th>bins_3_75</th>\n",
       "      <th>bins_4_75</th>\n",
       "      <th>bins_5_75</th>\n",
       "      <th>bins_6_75</th>\n",
       "      <th>bins_7_75</th>\n",
       "    </tr>\n",
       "  </thead>\n",
       "  <tbody>\n",
       "    <tr>\n",
       "      <th>119</th>\n",
       "      <td>-0.601386</td>\n",
       "      <td>-0.406106</td>\n",
       "      <td>-0.404604</td>\n",
       "      <td>2.947547</td>\n",
       "      <td>-0.285579</td>\n",
       "      <td>-0.168789</td>\n",
       "      <td>-0.200717</td>\n",
       "      <td>-0.284471</td>\n",
       "    </tr>\n",
       "    <tr>\n",
       "      <th>2836</th>\n",
       "      <td>1.450577</td>\n",
       "      <td>-0.132776</td>\n",
       "      <td>0.452833</td>\n",
       "      <td>-0.183387</td>\n",
       "      <td>-0.286862</td>\n",
       "      <td>-0.240816</td>\n",
       "      <td>-0.289968</td>\n",
       "      <td>-0.279956</td>\n",
       "    </tr>\n",
       "    <tr>\n",
       "      <th>353</th>\n",
       "      <td>-0.475030</td>\n",
       "      <td>-0.244246</td>\n",
       "      <td>-0.412282</td>\n",
       "      <td>-0.771109</td>\n",
       "      <td>-0.286862</td>\n",
       "      <td>-0.168789</td>\n",
       "      <td>-0.200717</td>\n",
       "      <td>-0.248355</td>\n",
       "    </tr>\n",
       "    <tr>\n",
       "      <th>2024</th>\n",
       "      <td>0.205696</td>\n",
       "      <td>-0.395417</td>\n",
       "      <td>-0.412282</td>\n",
       "      <td>-0.770557</td>\n",
       "      <td>-0.286862</td>\n",
       "      <td>-0.168789</td>\n",
       "      <td>-0.111465</td>\n",
       "      <td>2.749219</td>\n",
       "    </tr>\n",
       "    <tr>\n",
       "      <th>48</th>\n",
       "      <td>-0.375368</td>\n",
       "      <td>-0.364878</td>\n",
       "      <td>-0.409723</td>\n",
       "      <td>-0.770833</td>\n",
       "      <td>-0.287504</td>\n",
       "      <td>-0.240816</td>\n",
       "      <td>-0.200717</td>\n",
       "      <td>-0.234812</td>\n",
       "    </tr>\n",
       "    <tr>\n",
       "      <th>...</th>\n",
       "      <td>...</td>\n",
       "      <td>...</td>\n",
       "      <td>...</td>\n",
       "      <td>...</td>\n",
       "      <td>...</td>\n",
       "      <td>...</td>\n",
       "      <td>...</td>\n",
       "      <td>...</td>\n",
       "    </tr>\n",
       "    <tr>\n",
       "      <th>2293</th>\n",
       "      <td>0.386332</td>\n",
       "      <td>0.826169</td>\n",
       "      <td>3.874900</td>\n",
       "      <td>-0.771385</td>\n",
       "      <td>-0.287504</td>\n",
       "      <td>-0.240816</td>\n",
       "      <td>-0.200717</td>\n",
       "      <td>-0.257384</td>\n",
       "    </tr>\n",
       "    <tr>\n",
       "      <th>3474</th>\n",
       "      <td>-0.601386</td>\n",
       "      <td>-0.406106</td>\n",
       "      <td>-0.379009</td>\n",
       "      <td>0.786494</td>\n",
       "      <td>-0.283975</td>\n",
       "      <td>-0.240816</td>\n",
       "      <td>-0.289968</td>\n",
       "      <td>-0.279956</td>\n",
       "    </tr>\n",
       "    <tr>\n",
       "      <th>1901</th>\n",
       "      <td>-0.600497</td>\n",
       "      <td>-0.404579</td>\n",
       "      <td>-0.340616</td>\n",
       "      <td>1.675252</td>\n",
       "      <td>-0.272427</td>\n",
       "      <td>-0.096762</td>\n",
       "      <td>-0.111465</td>\n",
       "      <td>-0.279956</td>\n",
       "    </tr>\n",
       "    <tr>\n",
       "      <th>1252</th>\n",
       "      <td>2.009395</td>\n",
       "      <td>-0.328230</td>\n",
       "      <td>-0.412282</td>\n",
       "      <td>-0.770557</td>\n",
       "      <td>-0.287504</td>\n",
       "      <td>-0.240816</td>\n",
       "      <td>-0.289968</td>\n",
       "      <td>-0.239327</td>\n",
       "    </tr>\n",
       "    <tr>\n",
       "      <th>1478</th>\n",
       "      <td>0.631038</td>\n",
       "      <td>-0.392363</td>\n",
       "      <td>-0.412282</td>\n",
       "      <td>-0.770833</td>\n",
       "      <td>-0.287504</td>\n",
       "      <td>-0.240816</td>\n",
       "      <td>1.048809</td>\n",
       "      <td>4.376667</td>\n",
       "    </tr>\n",
       "  </tbody>\n",
       "</table>\n",
       "<p>2676 rows × 8 columns</p>\n",
       "</div>"
      ]
     },
     "execution_count": 116,
     "metadata": {},
     "output_type": "execute_result"
    }
   ],
   "execution_count": 116
  },
  {
   "metadata": {
    "ExecuteTime": {
     "end_time": "2024-08-03T12:16:08.972929Z",
     "start_time": "2024-08-03T12:16:08.953912Z"
    }
   },
   "cell_type": "code",
   "source": [
    "serialize_data(X_train_scaled_bin, r\"E:\\01_Programming\\Py\\dataframe_transform\\modelling_data\\only_bins\\X_train_scaled_bins.pkl\")"
   ],
   "id": "1f8c428f9d52e62a",
   "outputs": [],
   "execution_count": 117
  },
  {
   "metadata": {},
   "cell_type": "markdown",
   "source": [
    "valid set"
   ],
   "id": "60eab5de6059e495"
  },
  {
   "metadata": {
    "ExecuteTime": {
     "end_time": "2024-08-03T12:16:59.871360Z",
     "start_time": "2024-08-03T12:16:59.855345Z"
    }
   },
   "cell_type": "code",
   "source": [
    "X_valid_scaled_bin = X_valid_scaled.drop(columns=[\"Exit\"])\n",
    "X_valid_scaled_bin.columns"
   ],
   "id": "79e6776bd09b025d",
   "outputs": [
    {
     "data": {
      "text/plain": [
       "Index(['bins_0_75', 'bins_1_75', 'bins_2_75', 'bins_3_75', 'bins_4_75',\n",
       "       'bins_5_75', 'bins_6_75', 'bins_7_75'],\n",
       "      dtype='object')"
      ]
     },
     "execution_count": 118,
     "metadata": {},
     "output_type": "execute_result"
    }
   ],
   "execution_count": 118
  },
  {
   "metadata": {
    "ExecuteTime": {
     "end_time": "2024-08-03T12:17:39.185633Z",
     "start_time": "2024-08-03T12:17:39.170900Z"
    }
   },
   "cell_type": "code",
   "source": [
    "serialize_data(X_valid_scaled_bin, r\"E:\\01_Programming\\Py\\dataframe_transform\\modelling_data\\only_bins\\X_valid_scaled_bins.pkl\")"
   ],
   "id": "eec5f7b0e493b7de",
   "outputs": [],
   "execution_count": 119
  },
  {
   "metadata": {},
   "cell_type": "markdown",
   "source": [
    "test set"
   ],
   "id": "cfd94548ee19be8d"
  },
  {
   "metadata": {
    "ExecuteTime": {
     "end_time": "2024-08-03T12:18:13.546071Z",
     "start_time": "2024-08-03T12:18:13.529055Z"
    }
   },
   "cell_type": "code",
   "source": [
    "X_test_scaled_bin = X_test_scaled.drop(columns=[\"Exit\"])\n",
    "X_test_scaled_bin.columns"
   ],
   "id": "9c6e1d579e745f23",
   "outputs": [
    {
     "data": {
      "text/plain": [
       "Index(['bins_0_75', 'bins_1_75', 'bins_2_75', 'bins_3_75', 'bins_4_75',\n",
       "       'bins_5_75', 'bins_6_75', 'bins_7_75'],\n",
       "      dtype='object')"
      ]
     },
     "execution_count": 120,
     "metadata": {},
     "output_type": "execute_result"
    }
   ],
   "execution_count": 120
  }
 ],
 "metadata": {
  "kernelspec": {
   "display_name": "Python 3",
   "language": "python",
   "name": "python3"
  },
  "language_info": {
   "codemirror_mode": {
    "name": "ipython",
    "version": 2
   },
   "file_extension": ".py",
   "mimetype": "text/x-python",
   "name": "python",
   "nbconvert_exporter": "python",
   "pygments_lexer": "ipython2",
   "version": "2.7.6"
  }
 },
 "nbformat": 4,
 "nbformat_minor": 5
}
