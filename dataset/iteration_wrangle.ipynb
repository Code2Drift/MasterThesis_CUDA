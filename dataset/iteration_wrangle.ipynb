{
 "cells": [
  {
   "cell_type": "code",
   "id": "initial_id",
   "metadata": {
    "collapsed": true,
    "ExecuteTime": {
     "end_time": "2024-07-24T17:28:19.921141800Z",
     "start_time": "2024-07-24T17:28:19.910529800Z"
    }
   },
   "source": [
    "import pandas as pd\n",
    "import os\n",
    "import yaml\n",
    "from pathlib import Path\n",
    "import src.utils_dataframe as df_utils"
   ],
   "outputs": [
    {
     "name": "stdout",
     "output_type": "stream",
     "text": [
      "C:/Users/Team Vaculin/PycharmProjects/MasterThesis_CUDA/\n"
     ]
    }
   ],
   "execution_count": 55
  },
  {
   "cell_type": "code",
   "execution_count": 56,
   "outputs": [
    {
     "name": "stdout",
     "output_type": "stream",
     "text": [
      "C:/Users/Team Vaculin/PycharmProjects/MasterThesis_CUDA/\n"
     ]
    }
   ],
   "source": [
    "BASE_DIR = Path.cwd()\n",
    "BASE_DIR = str(BASE_DIR).replace(\"\\\\\", \"/\") + \"/\"\n",
    "print(BASE_DIR)"
   ],
   "metadata": {
    "collapsed": false,
    "ExecuteTime": {
     "end_time": "2024-07-24T17:28:22.382428Z",
     "start_time": "2024-07-24T17:28:22.365244Z"
    }
   },
   "id": "4d994f4aefd7c89e"
  },
  {
   "cell_type": "markdown",
   "source": [
    "## Define path"
   ],
   "metadata": {
    "collapsed": false
   },
   "id": "34648ade84d6527f"
  },
  {
   "cell_type": "code",
   "execution_count": 47,
   "outputs": [],
   "source": [
    "# def load_csv(root_path:Path, csv_name:str, config_path:Path, define_scenario:str) -> pd.DataFrame:\n",
    "#     config_path = os.path.join(root_path, config_path)\n",
    "#     \n",
    "#     with open(config_path, \"r\") as file:\n",
    "#         config = yaml.safe_load(file)\n",
    "#     \n",
    "#     ## define csv target\n",
    "#     csv_folder = os.path.join(root_path, config['yoflow_target'][define_scenario])\n",
    "#     collision_partner = csv_name + \".csv\"\n",
    "#     csv_full_path = csv_folder + collision_partner\n",
    "#     print(f\"CSV file for {csv_name}\")\n",
    "#     \n",
    "#     dataframe = pd.read_csv(csv_full_path)\n",
    "#     \n",
    "#     return dataframe"
   ],
   "metadata": {
    "collapsed": false,
    "ExecuteTime": {
     "end_time": "2024-07-24T15:35:26.667450Z",
     "start_time": "2024-07-24T15:35:26.656292Z"
    }
   },
   "id": "ad82b7ec57d23e3f"
  },
  {
   "metadata": {
    "ExecuteTime": {
     "end_time": "2024-07-24T17:28:25.583492400Z",
     "start_time": "2024-07-24T17:28:25.532210600Z"
    }
   },
   "cell_type": "code",
   "source": [
    "dataframe = df_utils.load_csv(\n",
    "    root_path=BASE_DIR,\n",
    "    csv_name=\"etk800-Marshall\",\n",
    "    config_path=\"config.yaml\",\n",
    "    define_scenario=\"scenario1\"\n",
    ")"
   ],
   "id": "27850cb908998d17",
   "outputs": [
    {
     "name": "stdout",
     "output_type": "stream",
     "text": [
      "CSV file for etk800-Marshall\n"
     ]
    }
   ],
   "execution_count": 57
  },
  {
   "metadata": {
    "ExecuteTime": {
     "end_time": "2024-07-24T17:28:51.119875400Z",
     "start_time": "2024-07-24T17:28:51.094313800Z"
    }
   },
   "cell_type": "code",
   "source": [
    "dataframe"
   ],
   "id": "4d1f29c8010b95ce",
   "outputs": [
    {
     "data": {
      "text/plain": "    bins_0_75  bins_1_75  bins_2_75  bins_3_75  bins_4_75  bins_5_75  \\\n0       888.0     3605.0        3.0        4.0        1.0        1.0   \n1         1.0        5.0      355.0     8121.0       20.0       10.0   \n2       972.0     3269.0       99.0        4.0        2.0        1.0   \n3         4.0       11.0      391.0     7204.0       37.0        9.0   \n4       959.0     2965.0      631.0        5.0        2.0        1.0   \n5         1.0       13.0      406.0     7986.0       33.0        6.0   \n6       814.0       39.0     2714.0       13.0        3.0        1.0   \n7        11.0        1.0      380.0     6527.0       39.0        1.0   \n8       965.0       51.0     1461.0       95.0        3.0        1.0   \n9         1.0        2.0      407.0     7056.0       13.0        1.0   \n10      856.0       58.0      261.0      350.0        8.0        5.0   \n11        1.0       10.0      658.0     7326.0        4.0        0.0   \n12     6527.0       44.0        2.0        1.0        1.0        0.0   \n13        0.0        0.0       87.0    12066.0       12.0        2.0   \n14     4852.0       43.0        3.0        5.0        4.0        2.0   \n15        0.0        0.0       23.0     6716.0       10.0        0.0   \n16     4969.0       41.0        2.0        4.0        4.0        1.0   \n17        0.0        0.0       29.0     7071.0       11.0        0.0   \n18     4193.0       48.0        3.0        4.0        3.0        2.0   \n19        0.0        0.0       38.0     7717.0       10.0        0.0   \n20     4861.0       49.0        3.0        4.0        4.0        1.0   \n21        0.0        0.0       40.0     7854.0        9.0        0.0   \n22     4933.0       50.0        3.0        4.0        3.0        2.0   \n23        0.0        0.0       69.0     8800.0       11.0        0.0   \n24     4151.0       45.0        3.0        4.0        4.0        1.0   \n25        0.0        0.0       57.0     9082.0       10.0        0.0   \n\n    bins_6_75  bins_7_75  Entry  Entry_point   Exit  Exit_point path_label  \\\n0         1.0       22.0   True            2  False         NaN      45-52   \n1        10.0        2.0   True            3   True         1.0      45-52   \n2         1.0       19.0   True            2  False         NaN      47-54   \n3        16.0       25.0   True            3   True         1.0      47-54   \n4         1.0       20.0   True            2  False         NaN      49-56   \n5        16.0        4.0   True            3   True         1.0      49-56   \n6         2.0       18.0   True            2  False         NaN      51-58   \n7         1.0       28.0   True            3   True         1.0      51-58   \n8         2.0       25.0   True            2  False         NaN      53-60   \n9         2.0        3.0   True            3   True         1.0      53-60   \n10       10.0       41.0   True            2  False         NaN      55-62   \n11        0.0        0.0   True            3  False         NaN      55-62   \n12        0.0       17.0   True            2   True         4.0   NM-44-58   \n13        1.0        1.0   True            3   True         1.0   NM-44-58   \n14        3.0       34.0   True            2   True         4.0   NT-60-25   \n15        0.0        0.0   True            3   True         1.0   NT-60-25   \n16        3.0       34.0   True            2   True         4.0   NT-62-27   \n17        1.0        1.0   True            3   True         1.0   NT-62-27   \n18        4.0       39.0   True            2   True         4.0   NT-64-29   \n19        1.0        1.0   True            3   True         1.0   NT-64-29   \n20        2.0       36.0   True            2   True         4.0   NT-66-31   \n21        0.0        1.0   True            3   True         1.0   NT-66-31   \n22        3.0       35.0   True            2   True         4.0   NT-68-33   \n23        1.0        0.0   True            3   True         1.0   NT-68-33   \n24        2.0       39.0   True            2   True         4.0   NT-70-35   \n25        1.0        0.0   True            3   True         1.0   NT-70-35   \n\n    outcome  \n0      True  \n1      True  \n2      True  \n3      True  \n4      True  \n5      True  \n6      True  \n7      True  \n8      True  \n9      True  \n10     True  \n11     True  \n12     True  \n13     True  \n14    False  \n15    False  \n16    False  \n17    False  \n18    False  \n19    False  \n20    False  \n21    False  \n22    False  \n23    False  \n24    False  \n25    False  ",
      "text/html": "<div>\n<style scoped>\n    .dataframe tbody tr th:only-of-type {\n        vertical-align: middle;\n    }\n\n    .dataframe tbody tr th {\n        vertical-align: top;\n    }\n\n    .dataframe thead th {\n        text-align: right;\n    }\n</style>\n<table border=\"1\" class=\"dataframe\">\n  <thead>\n    <tr style=\"text-align: right;\">\n      <th></th>\n      <th>bins_0_75</th>\n      <th>bins_1_75</th>\n      <th>bins_2_75</th>\n      <th>bins_3_75</th>\n      <th>bins_4_75</th>\n      <th>bins_5_75</th>\n      <th>bins_6_75</th>\n      <th>bins_7_75</th>\n      <th>Entry</th>\n      <th>Entry_point</th>\n      <th>Exit</th>\n      <th>Exit_point</th>\n      <th>path_label</th>\n      <th>outcome</th>\n    </tr>\n  </thead>\n  <tbody>\n    <tr>\n      <th>0</th>\n      <td>888.0</td>\n      <td>3605.0</td>\n      <td>3.0</td>\n      <td>4.0</td>\n      <td>1.0</td>\n      <td>1.0</td>\n      <td>1.0</td>\n      <td>22.0</td>\n      <td>True</td>\n      <td>2</td>\n      <td>False</td>\n      <td>NaN</td>\n      <td>45-52</td>\n      <td>True</td>\n    </tr>\n    <tr>\n      <th>1</th>\n      <td>1.0</td>\n      <td>5.0</td>\n      <td>355.0</td>\n      <td>8121.0</td>\n      <td>20.0</td>\n      <td>10.0</td>\n      <td>10.0</td>\n      <td>2.0</td>\n      <td>True</td>\n      <td>3</td>\n      <td>True</td>\n      <td>1.0</td>\n      <td>45-52</td>\n      <td>True</td>\n    </tr>\n    <tr>\n      <th>2</th>\n      <td>972.0</td>\n      <td>3269.0</td>\n      <td>99.0</td>\n      <td>4.0</td>\n      <td>2.0</td>\n      <td>1.0</td>\n      <td>1.0</td>\n      <td>19.0</td>\n      <td>True</td>\n      <td>2</td>\n      <td>False</td>\n      <td>NaN</td>\n      <td>47-54</td>\n      <td>True</td>\n    </tr>\n    <tr>\n      <th>3</th>\n      <td>4.0</td>\n      <td>11.0</td>\n      <td>391.0</td>\n      <td>7204.0</td>\n      <td>37.0</td>\n      <td>9.0</td>\n      <td>16.0</td>\n      <td>25.0</td>\n      <td>True</td>\n      <td>3</td>\n      <td>True</td>\n      <td>1.0</td>\n      <td>47-54</td>\n      <td>True</td>\n    </tr>\n    <tr>\n      <th>4</th>\n      <td>959.0</td>\n      <td>2965.0</td>\n      <td>631.0</td>\n      <td>5.0</td>\n      <td>2.0</td>\n      <td>1.0</td>\n      <td>1.0</td>\n      <td>20.0</td>\n      <td>True</td>\n      <td>2</td>\n      <td>False</td>\n      <td>NaN</td>\n      <td>49-56</td>\n      <td>True</td>\n    </tr>\n    <tr>\n      <th>5</th>\n      <td>1.0</td>\n      <td>13.0</td>\n      <td>406.0</td>\n      <td>7986.0</td>\n      <td>33.0</td>\n      <td>6.0</td>\n      <td>16.0</td>\n      <td>4.0</td>\n      <td>True</td>\n      <td>3</td>\n      <td>True</td>\n      <td>1.0</td>\n      <td>49-56</td>\n      <td>True</td>\n    </tr>\n    <tr>\n      <th>6</th>\n      <td>814.0</td>\n      <td>39.0</td>\n      <td>2714.0</td>\n      <td>13.0</td>\n      <td>3.0</td>\n      <td>1.0</td>\n      <td>2.0</td>\n      <td>18.0</td>\n      <td>True</td>\n      <td>2</td>\n      <td>False</td>\n      <td>NaN</td>\n      <td>51-58</td>\n      <td>True</td>\n    </tr>\n    <tr>\n      <th>7</th>\n      <td>11.0</td>\n      <td>1.0</td>\n      <td>380.0</td>\n      <td>6527.0</td>\n      <td>39.0</td>\n      <td>1.0</td>\n      <td>1.0</td>\n      <td>28.0</td>\n      <td>True</td>\n      <td>3</td>\n      <td>True</td>\n      <td>1.0</td>\n      <td>51-58</td>\n      <td>True</td>\n    </tr>\n    <tr>\n      <th>8</th>\n      <td>965.0</td>\n      <td>51.0</td>\n      <td>1461.0</td>\n      <td>95.0</td>\n      <td>3.0</td>\n      <td>1.0</td>\n      <td>2.0</td>\n      <td>25.0</td>\n      <td>True</td>\n      <td>2</td>\n      <td>False</td>\n      <td>NaN</td>\n      <td>53-60</td>\n      <td>True</td>\n    </tr>\n    <tr>\n      <th>9</th>\n      <td>1.0</td>\n      <td>2.0</td>\n      <td>407.0</td>\n      <td>7056.0</td>\n      <td>13.0</td>\n      <td>1.0</td>\n      <td>2.0</td>\n      <td>3.0</td>\n      <td>True</td>\n      <td>3</td>\n      <td>True</td>\n      <td>1.0</td>\n      <td>53-60</td>\n      <td>True</td>\n    </tr>\n    <tr>\n      <th>10</th>\n      <td>856.0</td>\n      <td>58.0</td>\n      <td>261.0</td>\n      <td>350.0</td>\n      <td>8.0</td>\n      <td>5.0</td>\n      <td>10.0</td>\n      <td>41.0</td>\n      <td>True</td>\n      <td>2</td>\n      <td>False</td>\n      <td>NaN</td>\n      <td>55-62</td>\n      <td>True</td>\n    </tr>\n    <tr>\n      <th>11</th>\n      <td>1.0</td>\n      <td>10.0</td>\n      <td>658.0</td>\n      <td>7326.0</td>\n      <td>4.0</td>\n      <td>0.0</td>\n      <td>0.0</td>\n      <td>0.0</td>\n      <td>True</td>\n      <td>3</td>\n      <td>False</td>\n      <td>NaN</td>\n      <td>55-62</td>\n      <td>True</td>\n    </tr>\n    <tr>\n      <th>12</th>\n      <td>6527.0</td>\n      <td>44.0</td>\n      <td>2.0</td>\n      <td>1.0</td>\n      <td>1.0</td>\n      <td>0.0</td>\n      <td>0.0</td>\n      <td>17.0</td>\n      <td>True</td>\n      <td>2</td>\n      <td>True</td>\n      <td>4.0</td>\n      <td>NM-44-58</td>\n      <td>True</td>\n    </tr>\n    <tr>\n      <th>13</th>\n      <td>0.0</td>\n      <td>0.0</td>\n      <td>87.0</td>\n      <td>12066.0</td>\n      <td>12.0</td>\n      <td>2.0</td>\n      <td>1.0</td>\n      <td>1.0</td>\n      <td>True</td>\n      <td>3</td>\n      <td>True</td>\n      <td>1.0</td>\n      <td>NM-44-58</td>\n      <td>True</td>\n    </tr>\n    <tr>\n      <th>14</th>\n      <td>4852.0</td>\n      <td>43.0</td>\n      <td>3.0</td>\n      <td>5.0</td>\n      <td>4.0</td>\n      <td>2.0</td>\n      <td>3.0</td>\n      <td>34.0</td>\n      <td>True</td>\n      <td>2</td>\n      <td>True</td>\n      <td>4.0</td>\n      <td>NT-60-25</td>\n      <td>False</td>\n    </tr>\n    <tr>\n      <th>15</th>\n      <td>0.0</td>\n      <td>0.0</td>\n      <td>23.0</td>\n      <td>6716.0</td>\n      <td>10.0</td>\n      <td>0.0</td>\n      <td>0.0</td>\n      <td>0.0</td>\n      <td>True</td>\n      <td>3</td>\n      <td>True</td>\n      <td>1.0</td>\n      <td>NT-60-25</td>\n      <td>False</td>\n    </tr>\n    <tr>\n      <th>16</th>\n      <td>4969.0</td>\n      <td>41.0</td>\n      <td>2.0</td>\n      <td>4.0</td>\n      <td>4.0</td>\n      <td>1.0</td>\n      <td>3.0</td>\n      <td>34.0</td>\n      <td>True</td>\n      <td>2</td>\n      <td>True</td>\n      <td>4.0</td>\n      <td>NT-62-27</td>\n      <td>False</td>\n    </tr>\n    <tr>\n      <th>17</th>\n      <td>0.0</td>\n      <td>0.0</td>\n      <td>29.0</td>\n      <td>7071.0</td>\n      <td>11.0</td>\n      <td>0.0</td>\n      <td>1.0</td>\n      <td>1.0</td>\n      <td>True</td>\n      <td>3</td>\n      <td>True</td>\n      <td>1.0</td>\n      <td>NT-62-27</td>\n      <td>False</td>\n    </tr>\n    <tr>\n      <th>18</th>\n      <td>4193.0</td>\n      <td>48.0</td>\n      <td>3.0</td>\n      <td>4.0</td>\n      <td>3.0</td>\n      <td>2.0</td>\n      <td>4.0</td>\n      <td>39.0</td>\n      <td>True</td>\n      <td>2</td>\n      <td>True</td>\n      <td>4.0</td>\n      <td>NT-64-29</td>\n      <td>False</td>\n    </tr>\n    <tr>\n      <th>19</th>\n      <td>0.0</td>\n      <td>0.0</td>\n      <td>38.0</td>\n      <td>7717.0</td>\n      <td>10.0</td>\n      <td>0.0</td>\n      <td>1.0</td>\n      <td>1.0</td>\n      <td>True</td>\n      <td>3</td>\n      <td>True</td>\n      <td>1.0</td>\n      <td>NT-64-29</td>\n      <td>False</td>\n    </tr>\n    <tr>\n      <th>20</th>\n      <td>4861.0</td>\n      <td>49.0</td>\n      <td>3.0</td>\n      <td>4.0</td>\n      <td>4.0</td>\n      <td>1.0</td>\n      <td>2.0</td>\n      <td>36.0</td>\n      <td>True</td>\n      <td>2</td>\n      <td>True</td>\n      <td>4.0</td>\n      <td>NT-66-31</td>\n      <td>False</td>\n    </tr>\n    <tr>\n      <th>21</th>\n      <td>0.0</td>\n      <td>0.0</td>\n      <td>40.0</td>\n      <td>7854.0</td>\n      <td>9.0</td>\n      <td>0.0</td>\n      <td>0.0</td>\n      <td>1.0</td>\n      <td>True</td>\n      <td>3</td>\n      <td>True</td>\n      <td>1.0</td>\n      <td>NT-66-31</td>\n      <td>False</td>\n    </tr>\n    <tr>\n      <th>22</th>\n      <td>4933.0</td>\n      <td>50.0</td>\n      <td>3.0</td>\n      <td>4.0</td>\n      <td>3.0</td>\n      <td>2.0</td>\n      <td>3.0</td>\n      <td>35.0</td>\n      <td>True</td>\n      <td>2</td>\n      <td>True</td>\n      <td>4.0</td>\n      <td>NT-68-33</td>\n      <td>False</td>\n    </tr>\n    <tr>\n      <th>23</th>\n      <td>0.0</td>\n      <td>0.0</td>\n      <td>69.0</td>\n      <td>8800.0</td>\n      <td>11.0</td>\n      <td>0.0</td>\n      <td>1.0</td>\n      <td>0.0</td>\n      <td>True</td>\n      <td>3</td>\n      <td>True</td>\n      <td>1.0</td>\n      <td>NT-68-33</td>\n      <td>False</td>\n    </tr>\n    <tr>\n      <th>24</th>\n      <td>4151.0</td>\n      <td>45.0</td>\n      <td>3.0</td>\n      <td>4.0</td>\n      <td>4.0</td>\n      <td>1.0</td>\n      <td>2.0</td>\n      <td>39.0</td>\n      <td>True</td>\n      <td>2</td>\n      <td>True</td>\n      <td>4.0</td>\n      <td>NT-70-35</td>\n      <td>False</td>\n    </tr>\n    <tr>\n      <th>25</th>\n      <td>0.0</td>\n      <td>0.0</td>\n      <td>57.0</td>\n      <td>9082.0</td>\n      <td>10.0</td>\n      <td>0.0</td>\n      <td>1.0</td>\n      <td>0.0</td>\n      <td>True</td>\n      <td>3</td>\n      <td>True</td>\n      <td>1.0</td>\n      <td>NT-70-35</td>\n      <td>False</td>\n    </tr>\n  </tbody>\n</table>\n</div>"
     },
     "execution_count": 58,
     "metadata": {},
     "output_type": "execute_result"
    }
   ],
   "execution_count": 58
  },
  {
   "metadata": {
    "ExecuteTime": {
     "end_time": "2024-07-24T17:31:47.748730600Z",
     "start_time": "2024-07-24T17:31:47.723325400Z"
    }
   },
   "cell_type": "code",
   "source": [
    "index2change = dataframe[dataframe['path_label'].str.startswith('NM')].index\n",
    "print(index2change)"
   ],
   "id": "f3dc7e9ec8ea40f2",
   "outputs": [
    {
     "name": "stdout",
     "output_type": "stream",
     "text": [
      "Index([12, 13], dtype='int64')\n"
     ]
    }
   ],
   "execution_count": 62
  },
  {
   "metadata": {
    "ExecuteTime": {
     "end_time": "2024-07-24T17:33:51.928436900Z",
     "start_time": "2024-07-24T17:33:51.918361100Z"
    }
   },
   "cell_type": "code",
   "outputs": [],
   "execution_count": 67,
   "source": [
    "dataframe.loc[index2change, 'outcome'] = False"
   ],
   "id": "3ae1ef1176223a53"
  },
  {
   "cell_type": "code",
   "execution_count": 68,
   "outputs": [
    {
     "data": {
      "text/plain": "    bins_0_75  bins_1_75  bins_2_75  bins_3_75  bins_4_75  bins_5_75  \\\n12     6527.0       44.0        2.0        1.0        1.0        0.0   \n13        0.0        0.0       87.0    12066.0       12.0        2.0   \n\n    bins_6_75  bins_7_75  Entry  Entry_point  Exit  Exit_point path_label  \\\n12        0.0       17.0   True            2  True         4.0   NM-44-58   \n13        1.0        1.0   True            3  True         1.0   NM-44-58   \n\n    outcome  \n12    False  \n13    False  ",
      "text/html": "<div>\n<style scoped>\n    .dataframe tbody tr th:only-of-type {\n        vertical-align: middle;\n    }\n\n    .dataframe tbody tr th {\n        vertical-align: top;\n    }\n\n    .dataframe thead th {\n        text-align: right;\n    }\n</style>\n<table border=\"1\" class=\"dataframe\">\n  <thead>\n    <tr style=\"text-align: right;\">\n      <th></th>\n      <th>bins_0_75</th>\n      <th>bins_1_75</th>\n      <th>bins_2_75</th>\n      <th>bins_3_75</th>\n      <th>bins_4_75</th>\n      <th>bins_5_75</th>\n      <th>bins_6_75</th>\n      <th>bins_7_75</th>\n      <th>Entry</th>\n      <th>Entry_point</th>\n      <th>Exit</th>\n      <th>Exit_point</th>\n      <th>path_label</th>\n      <th>outcome</th>\n    </tr>\n  </thead>\n  <tbody>\n    <tr>\n      <th>12</th>\n      <td>6527.0</td>\n      <td>44.0</td>\n      <td>2.0</td>\n      <td>1.0</td>\n      <td>1.0</td>\n      <td>0.0</td>\n      <td>0.0</td>\n      <td>17.0</td>\n      <td>True</td>\n      <td>2</td>\n      <td>True</td>\n      <td>4.0</td>\n      <td>NM-44-58</td>\n      <td>False</td>\n    </tr>\n    <tr>\n      <th>13</th>\n      <td>0.0</td>\n      <td>0.0</td>\n      <td>87.0</td>\n      <td>12066.0</td>\n      <td>12.0</td>\n      <td>2.0</td>\n      <td>1.0</td>\n      <td>1.0</td>\n      <td>True</td>\n      <td>3</td>\n      <td>True</td>\n      <td>1.0</td>\n      <td>NM-44-58</td>\n      <td>False</td>\n    </tr>\n  </tbody>\n</table>\n</div>"
     },
     "execution_count": 68,
     "metadata": {},
     "output_type": "execute_result"
    }
   ],
   "source": [
    "dataframe.loc[index2change]"
   ],
   "metadata": {
    "collapsed": false,
    "ExecuteTime": {
     "end_time": "2024-07-24T17:33:52.906031200Z",
     "start_time": "2024-07-24T17:33:52.876059600Z"
    }
   },
   "id": "7d51e2a199c61d79"
  },
  {
   "cell_type": "code",
   "execution_count": 70,
   "outputs": [
    {
     "data": {
      "text/plain": "    bins_0_75  bins_1_75  bins_2_75  bins_3_75  bins_4_75  bins_5_75  \\\n0       888.0     3605.0        3.0        4.0        1.0        1.0   \n1         1.0        5.0      355.0     8121.0       20.0       10.0   \n2       972.0     3269.0       99.0        4.0        2.0        1.0   \n3         4.0       11.0      391.0     7204.0       37.0        9.0   \n4       959.0     2965.0      631.0        5.0        2.0        1.0   \n5         1.0       13.0      406.0     7986.0       33.0        6.0   \n6       814.0       39.0     2714.0       13.0        3.0        1.0   \n7        11.0        1.0      380.0     6527.0       39.0        1.0   \n8       965.0       51.0     1461.0       95.0        3.0        1.0   \n9         1.0        2.0      407.0     7056.0       13.0        1.0   \n10      856.0       58.0      261.0      350.0        8.0        5.0   \n11        1.0       10.0      658.0     7326.0        4.0        0.0   \n12     6527.0       44.0        2.0        1.0        1.0        0.0   \n13        0.0        0.0       87.0    12066.0       12.0        2.0   \n14     4852.0       43.0        3.0        5.0        4.0        2.0   \n15        0.0        0.0       23.0     6716.0       10.0        0.0   \n16     4969.0       41.0        2.0        4.0        4.0        1.0   \n17        0.0        0.0       29.0     7071.0       11.0        0.0   \n18     4193.0       48.0        3.0        4.0        3.0        2.0   \n19        0.0        0.0       38.0     7717.0       10.0        0.0   \n20     4861.0       49.0        3.0        4.0        4.0        1.0   \n21        0.0        0.0       40.0     7854.0        9.0        0.0   \n22     4933.0       50.0        3.0        4.0        3.0        2.0   \n23        0.0        0.0       69.0     8800.0       11.0        0.0   \n24     4151.0       45.0        3.0        4.0        4.0        1.0   \n25        0.0        0.0       57.0     9082.0       10.0        0.0   \n\n    bins_6_75  bins_7_75  Entry  Entry_point   Exit  Exit_point path_label  \\\n0         1.0       22.0   True            2  False         NaN      45-52   \n1        10.0        2.0   True            3   True         1.0      45-52   \n2         1.0       19.0   True            2  False         NaN      47-54   \n3        16.0       25.0   True            3   True         1.0      47-54   \n4         1.0       20.0   True            2  False         NaN      49-56   \n5        16.0        4.0   True            3   True         1.0      49-56   \n6         2.0       18.0   True            2  False         NaN      51-58   \n7         1.0       28.0   True            3   True         1.0      51-58   \n8         2.0       25.0   True            2  False         NaN      53-60   \n9         2.0        3.0   True            3   True         1.0      53-60   \n10       10.0       41.0   True            2  False         NaN      55-62   \n11        0.0        0.0   True            3  False         NaN      55-62   \n12        0.0       17.0   True            2   True         4.0   NM-44-58   \n13        1.0        1.0   True            3   True         1.0   NM-44-58   \n14        3.0       34.0   True            2   True         4.0   NT-60-25   \n15        0.0        0.0   True            3   True         1.0   NT-60-25   \n16        3.0       34.0   True            2   True         4.0   NT-62-27   \n17        1.0        1.0   True            3   True         1.0   NT-62-27   \n18        4.0       39.0   True            2   True         4.0   NT-64-29   \n19        1.0        1.0   True            3   True         1.0   NT-64-29   \n20        2.0       36.0   True            2   True         4.0   NT-66-31   \n21        0.0        1.0   True            3   True         1.0   NT-66-31   \n22        3.0       35.0   True            2   True         4.0   NT-68-33   \n23        1.0        0.0   True            3   True         1.0   NT-68-33   \n24        2.0       39.0   True            2   True         4.0   NT-70-35   \n25        1.0        0.0   True            3   True         1.0   NT-70-35   \n\n    outcome  \n0      True  \n1      True  \n2      True  \n3      True  \n4      True  \n5      True  \n6      True  \n7      True  \n8      True  \n9      True  \n10     True  \n11     True  \n12    False  \n13    False  \n14    False  \n15    False  \n16    False  \n17    False  \n18    False  \n19    False  \n20    False  \n21    False  \n22    False  \n23    False  \n24    False  \n25    False  ",
      "text/html": "<div>\n<style scoped>\n    .dataframe tbody tr th:only-of-type {\n        vertical-align: middle;\n    }\n\n    .dataframe tbody tr th {\n        vertical-align: top;\n    }\n\n    .dataframe thead th {\n        text-align: right;\n    }\n</style>\n<table border=\"1\" class=\"dataframe\">\n  <thead>\n    <tr style=\"text-align: right;\">\n      <th></th>\n      <th>bins_0_75</th>\n      <th>bins_1_75</th>\n      <th>bins_2_75</th>\n      <th>bins_3_75</th>\n      <th>bins_4_75</th>\n      <th>bins_5_75</th>\n      <th>bins_6_75</th>\n      <th>bins_7_75</th>\n      <th>Entry</th>\n      <th>Entry_point</th>\n      <th>Exit</th>\n      <th>Exit_point</th>\n      <th>path_label</th>\n      <th>outcome</th>\n    </tr>\n  </thead>\n  <tbody>\n    <tr>\n      <th>0</th>\n      <td>888.0</td>\n      <td>3605.0</td>\n      <td>3.0</td>\n      <td>4.0</td>\n      <td>1.0</td>\n      <td>1.0</td>\n      <td>1.0</td>\n      <td>22.0</td>\n      <td>True</td>\n      <td>2</td>\n      <td>False</td>\n      <td>NaN</td>\n      <td>45-52</td>\n      <td>True</td>\n    </tr>\n    <tr>\n      <th>1</th>\n      <td>1.0</td>\n      <td>5.0</td>\n      <td>355.0</td>\n      <td>8121.0</td>\n      <td>20.0</td>\n      <td>10.0</td>\n      <td>10.0</td>\n      <td>2.0</td>\n      <td>True</td>\n      <td>3</td>\n      <td>True</td>\n      <td>1.0</td>\n      <td>45-52</td>\n      <td>True</td>\n    </tr>\n    <tr>\n      <th>2</th>\n      <td>972.0</td>\n      <td>3269.0</td>\n      <td>99.0</td>\n      <td>4.0</td>\n      <td>2.0</td>\n      <td>1.0</td>\n      <td>1.0</td>\n      <td>19.0</td>\n      <td>True</td>\n      <td>2</td>\n      <td>False</td>\n      <td>NaN</td>\n      <td>47-54</td>\n      <td>True</td>\n    </tr>\n    <tr>\n      <th>3</th>\n      <td>4.0</td>\n      <td>11.0</td>\n      <td>391.0</td>\n      <td>7204.0</td>\n      <td>37.0</td>\n      <td>9.0</td>\n      <td>16.0</td>\n      <td>25.0</td>\n      <td>True</td>\n      <td>3</td>\n      <td>True</td>\n      <td>1.0</td>\n      <td>47-54</td>\n      <td>True</td>\n    </tr>\n    <tr>\n      <th>4</th>\n      <td>959.0</td>\n      <td>2965.0</td>\n      <td>631.0</td>\n      <td>5.0</td>\n      <td>2.0</td>\n      <td>1.0</td>\n      <td>1.0</td>\n      <td>20.0</td>\n      <td>True</td>\n      <td>2</td>\n      <td>False</td>\n      <td>NaN</td>\n      <td>49-56</td>\n      <td>True</td>\n    </tr>\n    <tr>\n      <th>5</th>\n      <td>1.0</td>\n      <td>13.0</td>\n      <td>406.0</td>\n      <td>7986.0</td>\n      <td>33.0</td>\n      <td>6.0</td>\n      <td>16.0</td>\n      <td>4.0</td>\n      <td>True</td>\n      <td>3</td>\n      <td>True</td>\n      <td>1.0</td>\n      <td>49-56</td>\n      <td>True</td>\n    </tr>\n    <tr>\n      <th>6</th>\n      <td>814.0</td>\n      <td>39.0</td>\n      <td>2714.0</td>\n      <td>13.0</td>\n      <td>3.0</td>\n      <td>1.0</td>\n      <td>2.0</td>\n      <td>18.0</td>\n      <td>True</td>\n      <td>2</td>\n      <td>False</td>\n      <td>NaN</td>\n      <td>51-58</td>\n      <td>True</td>\n    </tr>\n    <tr>\n      <th>7</th>\n      <td>11.0</td>\n      <td>1.0</td>\n      <td>380.0</td>\n      <td>6527.0</td>\n      <td>39.0</td>\n      <td>1.0</td>\n      <td>1.0</td>\n      <td>28.0</td>\n      <td>True</td>\n      <td>3</td>\n      <td>True</td>\n      <td>1.0</td>\n      <td>51-58</td>\n      <td>True</td>\n    </tr>\n    <tr>\n      <th>8</th>\n      <td>965.0</td>\n      <td>51.0</td>\n      <td>1461.0</td>\n      <td>95.0</td>\n      <td>3.0</td>\n      <td>1.0</td>\n      <td>2.0</td>\n      <td>25.0</td>\n      <td>True</td>\n      <td>2</td>\n      <td>False</td>\n      <td>NaN</td>\n      <td>53-60</td>\n      <td>True</td>\n    </tr>\n    <tr>\n      <th>9</th>\n      <td>1.0</td>\n      <td>2.0</td>\n      <td>407.0</td>\n      <td>7056.0</td>\n      <td>13.0</td>\n      <td>1.0</td>\n      <td>2.0</td>\n      <td>3.0</td>\n      <td>True</td>\n      <td>3</td>\n      <td>True</td>\n      <td>1.0</td>\n      <td>53-60</td>\n      <td>True</td>\n    </tr>\n    <tr>\n      <th>10</th>\n      <td>856.0</td>\n      <td>58.0</td>\n      <td>261.0</td>\n      <td>350.0</td>\n      <td>8.0</td>\n      <td>5.0</td>\n      <td>10.0</td>\n      <td>41.0</td>\n      <td>True</td>\n      <td>2</td>\n      <td>False</td>\n      <td>NaN</td>\n      <td>55-62</td>\n      <td>True</td>\n    </tr>\n    <tr>\n      <th>11</th>\n      <td>1.0</td>\n      <td>10.0</td>\n      <td>658.0</td>\n      <td>7326.0</td>\n      <td>4.0</td>\n      <td>0.0</td>\n      <td>0.0</td>\n      <td>0.0</td>\n      <td>True</td>\n      <td>3</td>\n      <td>False</td>\n      <td>NaN</td>\n      <td>55-62</td>\n      <td>True</td>\n    </tr>\n    <tr>\n      <th>12</th>\n      <td>6527.0</td>\n      <td>44.0</td>\n      <td>2.0</td>\n      <td>1.0</td>\n      <td>1.0</td>\n      <td>0.0</td>\n      <td>0.0</td>\n      <td>17.0</td>\n      <td>True</td>\n      <td>2</td>\n      <td>True</td>\n      <td>4.0</td>\n      <td>NM-44-58</td>\n      <td>False</td>\n    </tr>\n    <tr>\n      <th>13</th>\n      <td>0.0</td>\n      <td>0.0</td>\n      <td>87.0</td>\n      <td>12066.0</td>\n      <td>12.0</td>\n      <td>2.0</td>\n      <td>1.0</td>\n      <td>1.0</td>\n      <td>True</td>\n      <td>3</td>\n      <td>True</td>\n      <td>1.0</td>\n      <td>NM-44-58</td>\n      <td>False</td>\n    </tr>\n    <tr>\n      <th>14</th>\n      <td>4852.0</td>\n      <td>43.0</td>\n      <td>3.0</td>\n      <td>5.0</td>\n      <td>4.0</td>\n      <td>2.0</td>\n      <td>3.0</td>\n      <td>34.0</td>\n      <td>True</td>\n      <td>2</td>\n      <td>True</td>\n      <td>4.0</td>\n      <td>NT-60-25</td>\n      <td>False</td>\n    </tr>\n    <tr>\n      <th>15</th>\n      <td>0.0</td>\n      <td>0.0</td>\n      <td>23.0</td>\n      <td>6716.0</td>\n      <td>10.0</td>\n      <td>0.0</td>\n      <td>0.0</td>\n      <td>0.0</td>\n      <td>True</td>\n      <td>3</td>\n      <td>True</td>\n      <td>1.0</td>\n      <td>NT-60-25</td>\n      <td>False</td>\n    </tr>\n    <tr>\n      <th>16</th>\n      <td>4969.0</td>\n      <td>41.0</td>\n      <td>2.0</td>\n      <td>4.0</td>\n      <td>4.0</td>\n      <td>1.0</td>\n      <td>3.0</td>\n      <td>34.0</td>\n      <td>True</td>\n      <td>2</td>\n      <td>True</td>\n      <td>4.0</td>\n      <td>NT-62-27</td>\n      <td>False</td>\n    </tr>\n    <tr>\n      <th>17</th>\n      <td>0.0</td>\n      <td>0.0</td>\n      <td>29.0</td>\n      <td>7071.0</td>\n      <td>11.0</td>\n      <td>0.0</td>\n      <td>1.0</td>\n      <td>1.0</td>\n      <td>True</td>\n      <td>3</td>\n      <td>True</td>\n      <td>1.0</td>\n      <td>NT-62-27</td>\n      <td>False</td>\n    </tr>\n    <tr>\n      <th>18</th>\n      <td>4193.0</td>\n      <td>48.0</td>\n      <td>3.0</td>\n      <td>4.0</td>\n      <td>3.0</td>\n      <td>2.0</td>\n      <td>4.0</td>\n      <td>39.0</td>\n      <td>True</td>\n      <td>2</td>\n      <td>True</td>\n      <td>4.0</td>\n      <td>NT-64-29</td>\n      <td>False</td>\n    </tr>\n    <tr>\n      <th>19</th>\n      <td>0.0</td>\n      <td>0.0</td>\n      <td>38.0</td>\n      <td>7717.0</td>\n      <td>10.0</td>\n      <td>0.0</td>\n      <td>1.0</td>\n      <td>1.0</td>\n      <td>True</td>\n      <td>3</td>\n      <td>True</td>\n      <td>1.0</td>\n      <td>NT-64-29</td>\n      <td>False</td>\n    </tr>\n    <tr>\n      <th>20</th>\n      <td>4861.0</td>\n      <td>49.0</td>\n      <td>3.0</td>\n      <td>4.0</td>\n      <td>4.0</td>\n      <td>1.0</td>\n      <td>2.0</td>\n      <td>36.0</td>\n      <td>True</td>\n      <td>2</td>\n      <td>True</td>\n      <td>4.0</td>\n      <td>NT-66-31</td>\n      <td>False</td>\n    </tr>\n    <tr>\n      <th>21</th>\n      <td>0.0</td>\n      <td>0.0</td>\n      <td>40.0</td>\n      <td>7854.0</td>\n      <td>9.0</td>\n      <td>0.0</td>\n      <td>0.0</td>\n      <td>1.0</td>\n      <td>True</td>\n      <td>3</td>\n      <td>True</td>\n      <td>1.0</td>\n      <td>NT-66-31</td>\n      <td>False</td>\n    </tr>\n    <tr>\n      <th>22</th>\n      <td>4933.0</td>\n      <td>50.0</td>\n      <td>3.0</td>\n      <td>4.0</td>\n      <td>3.0</td>\n      <td>2.0</td>\n      <td>3.0</td>\n      <td>35.0</td>\n      <td>True</td>\n      <td>2</td>\n      <td>True</td>\n      <td>4.0</td>\n      <td>NT-68-33</td>\n      <td>False</td>\n    </tr>\n    <tr>\n      <th>23</th>\n      <td>0.0</td>\n      <td>0.0</td>\n      <td>69.0</td>\n      <td>8800.0</td>\n      <td>11.0</td>\n      <td>0.0</td>\n      <td>1.0</td>\n      <td>0.0</td>\n      <td>True</td>\n      <td>3</td>\n      <td>True</td>\n      <td>1.0</td>\n      <td>NT-68-33</td>\n      <td>False</td>\n    </tr>\n    <tr>\n      <th>24</th>\n      <td>4151.0</td>\n      <td>45.0</td>\n      <td>3.0</td>\n      <td>4.0</td>\n      <td>4.0</td>\n      <td>1.0</td>\n      <td>2.0</td>\n      <td>39.0</td>\n      <td>True</td>\n      <td>2</td>\n      <td>True</td>\n      <td>4.0</td>\n      <td>NT-70-35</td>\n      <td>False</td>\n    </tr>\n    <tr>\n      <th>25</th>\n      <td>0.0</td>\n      <td>0.0</td>\n      <td>57.0</td>\n      <td>9082.0</td>\n      <td>10.0</td>\n      <td>0.0</td>\n      <td>1.0</td>\n      <td>0.0</td>\n      <td>True</td>\n      <td>3</td>\n      <td>True</td>\n      <td>1.0</td>\n      <td>NT-70-35</td>\n      <td>False</td>\n    </tr>\n  </tbody>\n</table>\n</div>"
     },
     "execution_count": 70,
     "metadata": {},
     "output_type": "execute_result"
    }
   ],
   "source": [
    "dataframe"
   ],
   "metadata": {
    "collapsed": false,
    "ExecuteTime": {
     "end_time": "2024-07-24T17:36:38.554253Z",
     "start_time": "2024-07-24T17:36:38.529148500Z"
    }
   },
   "id": "c36de9b4f0554f51"
  },
  {
   "cell_type": "code",
   "execution_count": null,
   "outputs": [],
   "source": [],
   "metadata": {
    "collapsed": false
   },
   "id": "34c58987ebc88214"
  }
 ],
 "metadata": {
  "kernelspec": {
   "display_name": "Python 3",
   "language": "python",
   "name": "python3"
  },
  "language_info": {
   "codemirror_mode": {
    "name": "ipython",
    "version": 2
   },
   "file_extension": ".py",
   "mimetype": "text/x-python",
   "name": "python",
   "nbconvert_exporter": "python",
   "pygments_lexer": "ipython2",
   "version": "2.7.6"
  }
 },
 "nbformat": 4,
 "nbformat_minor": 5
}
